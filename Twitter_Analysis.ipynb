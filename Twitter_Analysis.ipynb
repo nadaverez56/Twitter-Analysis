{
 "cells": [
  {
   "cell_type": "markdown",
   "metadata": {},
   "source": [
    "   # Twitter Data Analysis "
   ]
  },
  {
   "cell_type": "markdown",
   "metadata": {},
   "source": [
    "We will make use of the following libraries: **pandas, numpy, json, datetime, matplotlib**"
   ]
  },
  {
   "cell_type": "code",
   "execution_count": 71,
   "metadata": {},
   "outputs": [],
   "source": [
    "import datetime\n",
    "import pandas as pd\n",
    "import numpy as np\n",
    "import json\n",
    "import matplotlib.mlab as mlab\n",
    "import matplotlib.pyplot as plt\n",
    "TWEETS_FILE_PATH = r'PATH'\n",
    "USERS_FILE_PATH = r'PATH'\n",
    "tweets_data = pd.read_csv(TWEETS_FILE_PATH, encoding = \"ISO-8859-1\")\n",
    "users_data = pd.read_csv(USERS_FILE_PATH, encoding = \"ISO-8859-1\")"
   ]
  },
  {
   "cell_type": "markdown",
   "metadata": {},
   "source": [
    "## Data Cleaning"
   ]
  },
  {
   "cell_type": "markdown",
   "metadata": {},
   "source": [
    "After reading the data in Python, we would like to get an idea about the data structure (null values, length etc.)."
   ]
  },
  {
   "cell_type": "markdown",
   "metadata": {},
   "source": [
    "### Data cleaning of \"tweets_data\""
   ]
  },
  {
   "cell_type": "markdown",
   "metadata": {},
   "source": [
    "Let's take a look at tweets:"
   ]
  },
  {
   "cell_type": "code",
   "execution_count": 13,
   "metadata": {},
   "outputs": [
    {
     "data": {
      "text/html": [
       "<div>\n",
       "<style scoped>\n",
       "    .dataframe tbody tr th:only-of-type {\n",
       "        vertical-align: middle;\n",
       "    }\n",
       "\n",
       "    .dataframe tbody tr th {\n",
       "        vertical-align: top;\n",
       "    }\n",
       "\n",
       "    .dataframe thead th {\n",
       "        text-align: right;\n",
       "    }\n",
       "</style>\n",
       "<table border=\"1\" class=\"dataframe\">\n",
       "  <thead>\n",
       "    <tr style=\"text-align: right;\">\n",
       "      <th></th>\n",
       "      <th>user_id</th>\n",
       "      <th>tweet_id</th>\n",
       "      <th>text</th>\n",
       "      <th>created at</th>\n",
       "      <th>entities</th>\n",
       "      <th>hashtags</th>\n",
       "      <th>source</th>\n",
       "      <th>geo</th>\n",
       "      <th>is_quote_status</th>\n",
       "      <th>retweet_count</th>\n",
       "      <th>lang</th>\n",
       "    </tr>\n",
       "  </thead>\n",
       "  <tbody>\n",
       "    <tr>\n",
       "      <th>0</th>\n",
       "      <td>13679.0</td>\n",
       "      <td>1320000000000000000</td>\n",
       "      <td>@hassankhan Very likely! The pattern is usuall...</td>\n",
       "      <td>Wed Oct 28 06:09:25 +0000 2020</td>\n",
       "      <td>{\"hashtags\": [], \"symbols\": [], \"user_mentions...</td>\n",
       "      <td>[]</td>\n",
       "      <td>&lt;a href=\"https://mobile.twitter.com\" rel=\"nofo...</td>\n",
       "      <td>NaN</td>\n",
       "      <td>False</td>\n",
       "      <td>0.0</td>\n",
       "      <td>en</td>\n",
       "    </tr>\n",
       "    <tr>\n",
       "      <th>1</th>\n",
       "      <td>13679.0</td>\n",
       "      <td>1330000000000000000</td>\n",
       "      <td>Over the past 8 months, HHS &amp;amp; CDC has been...</td>\n",
       "      <td>Tue Nov 17 18:44:07 +0000 2020</td>\n",
       "      <td>{\"hashtags\": [], \"symbols\": [], \"user_mentions...</td>\n",
       "      <td>[]</td>\n",
       "      <td>&lt;a href=\"https://mobile.twitter.com\" rel=\"nofo...</td>\n",
       "      <td>NaN</td>\n",
       "      <td>False</td>\n",
       "      <td>0.0</td>\n",
       "      <td>en</td>\n",
       "    </tr>\n",
       "    <tr>\n",
       "      <th>2</th>\n",
       "      <td>13679.0</td>\n",
       "      <td>1330000000000000000</td>\n",
       "      <td>The Open Government Data Act signed into law b...</td>\n",
       "      <td>Tue Nov 17 18:44:07 +0000 2020</td>\n",
       "      <td>{\"hashtags\": [], \"symbols\": [], \"user_mentions...</td>\n",
       "      <td>[]</td>\n",
       "      <td>&lt;a href=\"https://mobile.twitter.com\" rel=\"nofo...</td>\n",
       "      <td>NaN</td>\n",
       "      <td>False</td>\n",
       "      <td>0.0</td>\n",
       "      <td>en</td>\n",
       "    </tr>\n",
       "    <tr>\n",
       "      <th>3</th>\n",
       "      <td>13679.0</td>\n",
       "      <td>1330000000000000000</td>\n",
       "      <td>I often get asked if there are any *legal* or ...</td>\n",
       "      <td>Tue Nov 17 18:44:07 +0000 2020</td>\n",
       "      <td>{\"hashtags\": [], \"symbols\": [], \"user_mentions...</td>\n",
       "      <td>[]</td>\n",
       "      <td>&lt;a href=\"https://mobile.twitter.com\" rel=\"nofo...</td>\n",
       "      <td>NaN</td>\n",
       "      <td>False</td>\n",
       "      <td>0.0</td>\n",
       "      <td>en</td>\n",
       "    </tr>\n",
       "    <tr>\n",
       "      <th>4</th>\n",
       "      <td>13679.0</td>\n",
       "      <td>1330000000000000000</td>\n",
       "      <td>My last plea. Before handing the baton to the ...</td>\n",
       "      <td>Tue Nov 17 19:02:10 +0000 2020</td>\n",
       "      <td>{\"hashtags\": [], \"symbols\": [], \"user_mentions...</td>\n",
       "      <td>[]</td>\n",
       "      <td>&lt;a href=\"https://mobile.twitter.com\" rel=\"nofo...</td>\n",
       "      <td>NaN</td>\n",
       "      <td>True</td>\n",
       "      <td>6.0</td>\n",
       "      <td>en</td>\n",
       "    </tr>\n",
       "  </tbody>\n",
       "</table>\n",
       "</div>"
      ],
      "text/plain": [
       "   user_id             tweet_id  \\\n",
       "0  13679.0  1320000000000000000   \n",
       "1  13679.0  1330000000000000000   \n",
       "2  13679.0  1330000000000000000   \n",
       "3  13679.0  1330000000000000000   \n",
       "4  13679.0  1330000000000000000   \n",
       "\n",
       "                                                text  \\\n",
       "0  @hassankhan Very likely! The pattern is usuall...   \n",
       "1  Over the past 8 months, HHS &amp; CDC has been...   \n",
       "2  The Open Government Data Act signed into law b...   \n",
       "3  I often get asked if there are any *legal* or ...   \n",
       "4  My last plea. Before handing the baton to the ...   \n",
       "\n",
       "                       created at  \\\n",
       "0  Wed Oct 28 06:09:25 +0000 2020   \n",
       "1  Tue Nov 17 18:44:07 +0000 2020   \n",
       "2  Tue Nov 17 18:44:07 +0000 2020   \n",
       "3  Tue Nov 17 18:44:07 +0000 2020   \n",
       "4  Tue Nov 17 19:02:10 +0000 2020   \n",
       "\n",
       "                                            entities hashtags  \\\n",
       "0  {\"hashtags\": [], \"symbols\": [], \"user_mentions...       []   \n",
       "1  {\"hashtags\": [], \"symbols\": [], \"user_mentions...       []   \n",
       "2  {\"hashtags\": [], \"symbols\": [], \"user_mentions...       []   \n",
       "3  {\"hashtags\": [], \"symbols\": [], \"user_mentions...       []   \n",
       "4  {\"hashtags\": [], \"symbols\": [], \"user_mentions...       []   \n",
       "\n",
       "                                              source  geo  is_quote_status  \\\n",
       "0  <a href=\"https://mobile.twitter.com\" rel=\"nofo...  NaN            False   \n",
       "1  <a href=\"https://mobile.twitter.com\" rel=\"nofo...  NaN            False   \n",
       "2  <a href=\"https://mobile.twitter.com\" rel=\"nofo...  NaN            False   \n",
       "3  <a href=\"https://mobile.twitter.com\" rel=\"nofo...  NaN            False   \n",
       "4  <a href=\"https://mobile.twitter.com\" rel=\"nofo...  NaN             True   \n",
       "\n",
       "   retweet_count lang  \n",
       "0            0.0   en  \n",
       "1            0.0   en  \n",
       "2            0.0   en  \n",
       "3            0.0   en  \n",
       "4            6.0   en  "
      ]
     },
     "execution_count": 13,
     "metadata": {},
     "output_type": "execute_result"
    }
   ],
   "source": [
    "tweets_data.head()"
   ]
  },
  {
   "cell_type": "code",
   "execution_count": 14,
   "metadata": {},
   "outputs": [
    {
     "name": "stdout",
     "output_type": "stream",
     "text": [
      "<class 'pandas.core.frame.DataFrame'>\n",
      "RangeIndex: 77452 entries, 0 to 77451\n",
      "Data columns (total 11 columns):\n",
      " #   Column           Non-Null Count  Dtype  \n",
      "---  ------           --------------  -----  \n",
      " 0   user_id          77452 non-null  float64\n",
      " 1   tweet_id         77452 non-null  int64  \n",
      " 2   text             77452 non-null  object \n",
      " 3   created at       77452 non-null  object \n",
      " 4   entities         77452 non-null  object \n",
      " 5   hashtags         77452 non-null  object \n",
      " 6   source           77452 non-null  object \n",
      " 7   geo              313 non-null    object \n",
      " 8   is_quote_status  77452 non-null  bool   \n",
      " 9   retweet_count    77452 non-null  float64\n",
      " 10  lang             77452 non-null  object \n",
      "dtypes: bool(1), float64(2), int64(1), object(7)\n",
      "memory usage: 6.0+ MB\n"
     ]
    }
   ],
   "source": [
    "tweets_data.info()"
   ]
  },
  {
   "cell_type": "markdown",
   "metadata": {},
   "source": [
    "Rename created at column to 'created_at':"
   ]
  },
  {
   "cell_type": "code",
   "execution_count": 15,
   "metadata": {},
   "outputs": [],
   "source": [
    "tweets_data = tweets_data.rename(columns={'created at':'created_at'})"
   ]
  },
  {
   "cell_type": "markdown",
   "metadata": {},
   "source": [
    "There are instances where there is no date specified (\"-\") - we filter these out:"
   ]
  },
  {
   "cell_type": "code",
   "execution_count": 16,
   "metadata": {},
   "outputs": [],
   "source": [
    "tweets_data = tweets_data[tweets_data.created_at != '-'].reset_index(drop=True)"
   ]
  },
  {
   "cell_type": "markdown",
   "metadata": {},
   "source": [
    "Next, we want to make sure that we keep only ID's that are in the users data.<br>We inner join with user_id column in users data to get rid of irrelevant IDs:"
   ]
  },
  {
   "cell_type": "code",
   "execution_count": 17,
   "metadata": {},
   "outputs": [],
   "source": [
    "users_user_IDs = users_data[['user_id']] #df only with user_id\n",
    "\n",
    "tweets_data = users_user_IDs.merge(tweets_data, on='user_id', how='inner')"
   ]
  },
  {
   "cell_type": "code",
   "execution_count": 18,
   "metadata": {},
   "outputs": [
    {
     "data": {
      "text/plain": [
       "57768217      400\n",
       "16742053      400\n",
       "163570705     400\n",
       "23607273      400\n",
       "1430581447    400\n",
       "             ... \n",
       "224661284       2\n",
       "1412145416      2\n",
       "34765906        2\n",
       "816373280       2\n",
       "1726625022      2\n",
       "Name: user_id, Length: 541, dtype: int64"
      ]
     },
     "execution_count": 18,
     "metadata": {},
     "output_type": "execute_result"
    }
   ],
   "source": [
    "tweets_data['user_id'].value_counts()"
   ]
  },
  {
   "cell_type": "markdown",
   "metadata": {},
   "source": [
    "Now we see that there are 541 unique IDs in tweets (less than in users).<br>\n",
    "For matching both of the data frames, we will need to do another inner join, between the user ids from tweets and the entire users dataframe. This we will do in the User_data cleaning section. "
   ]
  },
  {
   "cell_type": "markdown",
   "metadata": {},
   "source": [
    "Problem with data: a user cannot tweet two tweets at the **same time**. <br> So, the tweets data's unique key is hereby defined by user_id + date & time ('**created_at**'). <br>\n",
    "(Users data unique key is **user_id**).<br>\n"
   ]
  },
  {
   "cell_type": "markdown",
   "metadata": {},
   "source": [
    "Dropping duplicate rows, by our defined key:"
   ]
  },
  {
   "cell_type": "code",
   "execution_count": 19,
   "metadata": {},
   "outputs": [],
   "source": [
    "tweets_data = tweets_data.drop_duplicates(subset=['user_id', 'created_at'], keep='first').reset_index(drop=True)"
   ]
  },
  {
   "cell_type": "markdown",
   "metadata": {},
   "source": [
    "The data structure with the key:"
   ]
  },
  {
   "cell_type": "code",
   "execution_count": 20,
   "metadata": {},
   "outputs": [
    {
     "data": {
      "text/html": [
       "<div>\n",
       "<style scoped>\n",
       "    .dataframe tbody tr th:only-of-type {\n",
       "        vertical-align: middle;\n",
       "    }\n",
       "\n",
       "    .dataframe tbody tr th {\n",
       "        vertical-align: top;\n",
       "    }\n",
       "\n",
       "    .dataframe thead th {\n",
       "        text-align: right;\n",
       "    }\n",
       "</style>\n",
       "<table border=\"1\" class=\"dataframe\">\n",
       "  <thead>\n",
       "    <tr style=\"text-align: right;\">\n",
       "      <th></th>\n",
       "      <th></th>\n",
       "      <th>tweet_id</th>\n",
       "      <th>text</th>\n",
       "      <th>entities</th>\n",
       "      <th>hashtags</th>\n",
       "      <th>source</th>\n",
       "      <th>geo</th>\n",
       "      <th>is_quote_status</th>\n",
       "      <th>retweet_count</th>\n",
       "      <th>lang</th>\n",
       "    </tr>\n",
       "    <tr>\n",
       "      <th>user_id</th>\n",
       "      <th>created_at</th>\n",
       "      <th></th>\n",
       "      <th></th>\n",
       "      <th></th>\n",
       "      <th></th>\n",
       "      <th></th>\n",
       "      <th></th>\n",
       "      <th></th>\n",
       "      <th></th>\n",
       "      <th></th>\n",
       "    </tr>\n",
       "  </thead>\n",
       "  <tbody>\n",
       "    <tr>\n",
       "      <th rowspan=\"4\" valign=\"top\">1322535270</th>\n",
       "      <th>Fri Nov 01 11:15:10 +0000 2013</th>\n",
       "      <td>396000000000000000</td>\n",
       "      <td>RT @Desyfitrhiani: @AndhyNautika follback.</td>\n",
       "      <td>{\"hashtags\": [], \"symbols\": [], \"user_mentions...</td>\n",
       "      <td>[]</td>\n",
       "      <td>&lt;a href=\"http://blackberry.com/twitter\" rel=\"n...</td>\n",
       "      <td>NaN</td>\n",
       "      <td>False</td>\n",
       "      <td>1.0</td>\n",
       "      <td>en</td>\n",
       "    </tr>\n",
       "    <tr>\n",
       "      <th>Thu Oct 31 14:14:58 +0000 2013</th>\n",
       "      <td>396000000000000000</td>\n",
       "      <td>RT @agooez_48: I don't know,who you are.</td>\n",
       "      <td>{\"hashtags\": [], \"symbols\": [], \"user_mentions...</td>\n",
       "      <td>[]</td>\n",
       "      <td>&lt;a href=\"http://blackberry.com/twitter\" rel=\"n...</td>\n",
       "      <td>NaN</td>\n",
       "      <td>False</td>\n",
       "      <td>1.0</td>\n",
       "      <td>en</td>\n",
       "    </tr>\n",
       "    <tr>\n",
       "      <th>Thu Oct 31 14:49:38 +0000 2013</th>\n",
       "      <td>396000000000000000</td>\n",
       "      <td>RT @indha: love u so much......Arie......</td>\n",
       "      <td>{\"hashtags\": [], \"symbols\": [], \"user_mentions...</td>\n",
       "      <td>[]</td>\n",
       "      <td>&lt;a href=\"http://blackberry.com/twitter\" rel=\"n...</td>\n",
       "      <td>NaN</td>\n",
       "      <td>False</td>\n",
       "      <td>6.0</td>\n",
       "      <td>en</td>\n",
       "    </tr>\n",
       "    <tr>\n",
       "      <th>Tue Apr 02 14:16:03 +0000 2013</th>\n",
       "      <td>319000000000000000</td>\n",
       "      <td>@agooez_48 foollback</td>\n",
       "      <td>{\"hashtags\": [], \"symbols\": [], \"user_mentions...</td>\n",
       "      <td>[]</td>\n",
       "      <td>&lt;a href=\"https://mobile.twitter.com\" rel=\"nofo...</td>\n",
       "      <td>NaN</td>\n",
       "      <td>False</td>\n",
       "      <td>0.0</td>\n",
       "      <td>en</td>\n",
       "    </tr>\n",
       "    <tr>\n",
       "      <th>701561502</th>\n",
       "      <th>Wed Jul 18 21:04:24 +0000 2012</th>\n",
       "      <td>226000000000000000</td>\n",
       "      <td>I don't even know how too use this ..\\n smh -_-</td>\n",
       "      <td>{\"hashtags\": [], \"symbols\": [], \"user_mentions...</td>\n",
       "      <td>[]</td>\n",
       "      <td>&lt;a href=\"http://twitter.com\" rel=\"nofollow\"&gt;Tw...</td>\n",
       "      <td>NaN</td>\n",
       "      <td>False</td>\n",
       "      <td>0.0</td>\n",
       "      <td>en</td>\n",
       "    </tr>\n",
       "    <tr>\n",
       "      <th>...</th>\n",
       "      <th>...</th>\n",
       "      <td>...</td>\n",
       "      <td>...</td>\n",
       "      <td>...</td>\n",
       "      <td>...</td>\n",
       "      <td>...</td>\n",
       "      <td>...</td>\n",
       "      <td>...</td>\n",
       "      <td>...</td>\n",
       "      <td>...</td>\n",
       "    </tr>\n",
       "    <tr>\n",
       "      <th rowspan=\"5\" valign=\"top\">163570705</th>\n",
       "      <th>Mon Jun 01 18:26:06 +0000 2020</th>\n",
       "      <td>1270000000000000000</td>\n",
       "      <td>RT @BryanLowry3: .@repcleaver at today's #Geor...</td>\n",
       "      <td>{\"hashtags\": [{\"text\": \"GeorgeFloydProtest\", \"...</td>\n",
       "      <td>[{\"text\": \"GeorgeFloydProtest\", \"indices\": [41...</td>\n",
       "      <td>&lt;a href=\"https://mobile.twitter.com\" rel=\"nofo...</td>\n",
       "      <td>NaN</td>\n",
       "      <td>False</td>\n",
       "      <td>29.0</td>\n",
       "      <td>en</td>\n",
       "    </tr>\n",
       "    <tr>\n",
       "      <th>Sun Jun 21 16:42:18 +0000 2020</th>\n",
       "      <td>1270000000000000000</td>\n",
       "      <td>RT @EvanCleaver: My fav pic of my Dad and I. R...</td>\n",
       "      <td>{\"hashtags\": [{\"text\": \"FathersDay\", \"indices\"...</td>\n",
       "      <td>[{\"text\": \"FathersDay\", \"indices\": [83, 94]}, ...</td>\n",
       "      <td>&lt;a href=\"http://twitter.com/download/android\" ...</td>\n",
       "      <td>NaN</td>\n",
       "      <td>False</td>\n",
       "      <td>3.0</td>\n",
       "      <td>en</td>\n",
       "    </tr>\n",
       "    <tr>\n",
       "      <th>Fri May 29 20:20:42 +0000 2020</th>\n",
       "      <td>1270000000000000000</td>\n",
       "      <td>RT @MizzouBLSA: In re Being Black in America \\...</td>\n",
       "      <td>{\"hashtags\": [{\"text\": \"BlackLivesMatter\", \"in...</td>\n",
       "      <td>[{\"text\": \"BlackLivesMatter\", \"indices\": [46, ...</td>\n",
       "      <td>&lt;a href=\"https://mobile.twitter.com\" rel=\"nofo...</td>\n",
       "      <td>NaN</td>\n",
       "      <td>False</td>\n",
       "      <td>31.0</td>\n",
       "      <td>en</td>\n",
       "    </tr>\n",
       "    <tr>\n",
       "      <th>Thu Jun 04 19:29:47 +0000 2020</th>\n",
       "      <td>1270000000000000000</td>\n",
       "      <td>In honor of #MomsEqualPay Day, let?s push fo...</td>\n",
       "      <td>{\"hashtags\": [{\"text\": \"MomsEqualPay\", \"indice...</td>\n",
       "      <td>[{\"text\": \"MomsEqualPay\", \"indices\": [12, 25]}...</td>\n",
       "      <td>&lt;a href=\"https://mobile.twitter.com\" rel=\"nofo...</td>\n",
       "      <td>NaN</td>\n",
       "      <td>False</td>\n",
       "      <td>6.0</td>\n",
       "      <td>en</td>\n",
       "    </tr>\n",
       "    <tr>\n",
       "      <th>Thu Jun 18 14:48:03 +0000 2020</th>\n",
       "      <td>1270000000000000000</td>\n",
       "      <td>#HomeIsHere for nearly 700,000 #Dreamers.\\n \\n...</td>\n",
       "      <td>{\"hashtags\": [{\"text\": \"HomeIsHere\", \"indices\"...</td>\n",
       "      <td>[{\"text\": \"HomeIsHere\", \"indices\": [0, 11]}, {...</td>\n",
       "      <td>&lt;a href=\"https://mobile.twitter.com\" rel=\"nofo...</td>\n",
       "      <td>NaN</td>\n",
       "      <td>True</td>\n",
       "      <td>24.0</td>\n",
       "      <td>en</td>\n",
       "    </tr>\n",
       "  </tbody>\n",
       "</table>\n",
       "<p>35260 rows × 9 columns</p>\n",
       "</div>"
      ],
      "text/plain": [
       "                                                      tweet_id  \\\n",
       "user_id    created_at                                            \n",
       "1322535270 Fri Nov 01 11:15:10 +0000 2013   396000000000000000   \n",
       "           Thu Oct 31 14:14:58 +0000 2013   396000000000000000   \n",
       "           Thu Oct 31 14:49:38 +0000 2013   396000000000000000   \n",
       "           Tue Apr 02 14:16:03 +0000 2013   319000000000000000   \n",
       "701561502  Wed Jul 18 21:04:24 +0000 2012   226000000000000000   \n",
       "...                                                        ...   \n",
       "163570705  Mon Jun 01 18:26:06 +0000 2020  1270000000000000000   \n",
       "           Sun Jun 21 16:42:18 +0000 2020  1270000000000000000   \n",
       "           Fri May 29 20:20:42 +0000 2020  1270000000000000000   \n",
       "           Thu Jun 04 19:29:47 +0000 2020  1270000000000000000   \n",
       "           Thu Jun 18 14:48:03 +0000 2020  1270000000000000000   \n",
       "\n",
       "                                                                                        text  \\\n",
       "user_id    created_at                                                                          \n",
       "1322535270 Fri Nov 01 11:15:10 +0000 2013         RT @Desyfitrhiani: @AndhyNautika follback.   \n",
       "           Thu Oct 31 14:14:58 +0000 2013           RT @agooez_48: I don't know,who you are.   \n",
       "           Thu Oct 31 14:49:38 +0000 2013          RT @indha: love u so much......Arie......   \n",
       "           Tue Apr 02 14:16:03 +0000 2013                               @agooez_48 foollback   \n",
       "701561502  Wed Jul 18 21:04:24 +0000 2012    I don't even know how too use this ..\\n smh -_-   \n",
       "...                                                                                      ...   \n",
       "163570705  Mon Jun 01 18:26:06 +0000 2020  RT @BryanLowry3: .@repcleaver at today's #Geor...   \n",
       "           Sun Jun 21 16:42:18 +0000 2020  RT @EvanCleaver: My fav pic of my Dad and I. R...   \n",
       "           Fri May 29 20:20:42 +0000 2020  RT @MizzouBLSA: In re Being Black in America \\...   \n",
       "           Thu Jun 04 19:29:47 +0000 2020  In honor of #MomsEqualPay Day, let?s push fo...   \n",
       "           Thu Jun 18 14:48:03 +0000 2020  #HomeIsHere for nearly 700,000 #Dreamers.\\n \\n...   \n",
       "\n",
       "                                                                                    entities  \\\n",
       "user_id    created_at                                                                          \n",
       "1322535270 Fri Nov 01 11:15:10 +0000 2013  {\"hashtags\": [], \"symbols\": [], \"user_mentions...   \n",
       "           Thu Oct 31 14:14:58 +0000 2013  {\"hashtags\": [], \"symbols\": [], \"user_mentions...   \n",
       "           Thu Oct 31 14:49:38 +0000 2013  {\"hashtags\": [], \"symbols\": [], \"user_mentions...   \n",
       "           Tue Apr 02 14:16:03 +0000 2013  {\"hashtags\": [], \"symbols\": [], \"user_mentions...   \n",
       "701561502  Wed Jul 18 21:04:24 +0000 2012  {\"hashtags\": [], \"symbols\": [], \"user_mentions...   \n",
       "...                                                                                      ...   \n",
       "163570705  Mon Jun 01 18:26:06 +0000 2020  {\"hashtags\": [{\"text\": \"GeorgeFloydProtest\", \"...   \n",
       "           Sun Jun 21 16:42:18 +0000 2020  {\"hashtags\": [{\"text\": \"FathersDay\", \"indices\"...   \n",
       "           Fri May 29 20:20:42 +0000 2020  {\"hashtags\": [{\"text\": \"BlackLivesMatter\", \"in...   \n",
       "           Thu Jun 04 19:29:47 +0000 2020  {\"hashtags\": [{\"text\": \"MomsEqualPay\", \"indice...   \n",
       "           Thu Jun 18 14:48:03 +0000 2020  {\"hashtags\": [{\"text\": \"HomeIsHere\", \"indices\"...   \n",
       "\n",
       "                                                                                    hashtags  \\\n",
       "user_id    created_at                                                                          \n",
       "1322535270 Fri Nov 01 11:15:10 +0000 2013                                                 []   \n",
       "           Thu Oct 31 14:14:58 +0000 2013                                                 []   \n",
       "           Thu Oct 31 14:49:38 +0000 2013                                                 []   \n",
       "           Tue Apr 02 14:16:03 +0000 2013                                                 []   \n",
       "701561502  Wed Jul 18 21:04:24 +0000 2012                                                 []   \n",
       "...                                                                                      ...   \n",
       "163570705  Mon Jun 01 18:26:06 +0000 2020  [{\"text\": \"GeorgeFloydProtest\", \"indices\": [41...   \n",
       "           Sun Jun 21 16:42:18 +0000 2020  [{\"text\": \"FathersDay\", \"indices\": [83, 94]}, ...   \n",
       "           Fri May 29 20:20:42 +0000 2020  [{\"text\": \"BlackLivesMatter\", \"indices\": [46, ...   \n",
       "           Thu Jun 04 19:29:47 +0000 2020  [{\"text\": \"MomsEqualPay\", \"indices\": [12, 25]}...   \n",
       "           Thu Jun 18 14:48:03 +0000 2020  [{\"text\": \"HomeIsHere\", \"indices\": [0, 11]}, {...   \n",
       "\n",
       "                                                                                      source  \\\n",
       "user_id    created_at                                                                          \n",
       "1322535270 Fri Nov 01 11:15:10 +0000 2013  <a href=\"http://blackberry.com/twitter\" rel=\"n...   \n",
       "           Thu Oct 31 14:14:58 +0000 2013  <a href=\"http://blackberry.com/twitter\" rel=\"n...   \n",
       "           Thu Oct 31 14:49:38 +0000 2013  <a href=\"http://blackberry.com/twitter\" rel=\"n...   \n",
       "           Tue Apr 02 14:16:03 +0000 2013  <a href=\"https://mobile.twitter.com\" rel=\"nofo...   \n",
       "701561502  Wed Jul 18 21:04:24 +0000 2012  <a href=\"http://twitter.com\" rel=\"nofollow\">Tw...   \n",
       "...                                                                                      ...   \n",
       "163570705  Mon Jun 01 18:26:06 +0000 2020  <a href=\"https://mobile.twitter.com\" rel=\"nofo...   \n",
       "           Sun Jun 21 16:42:18 +0000 2020  <a href=\"http://twitter.com/download/android\" ...   \n",
       "           Fri May 29 20:20:42 +0000 2020  <a href=\"https://mobile.twitter.com\" rel=\"nofo...   \n",
       "           Thu Jun 04 19:29:47 +0000 2020  <a href=\"https://mobile.twitter.com\" rel=\"nofo...   \n",
       "           Thu Jun 18 14:48:03 +0000 2020  <a href=\"https://mobile.twitter.com\" rel=\"nofo...   \n",
       "\n",
       "                                           geo  is_quote_status  \\\n",
       "user_id    created_at                                             \n",
       "1322535270 Fri Nov 01 11:15:10 +0000 2013  NaN            False   \n",
       "           Thu Oct 31 14:14:58 +0000 2013  NaN            False   \n",
       "           Thu Oct 31 14:49:38 +0000 2013  NaN            False   \n",
       "           Tue Apr 02 14:16:03 +0000 2013  NaN            False   \n",
       "701561502  Wed Jul 18 21:04:24 +0000 2012  NaN            False   \n",
       "...                                        ...              ...   \n",
       "163570705  Mon Jun 01 18:26:06 +0000 2020  NaN            False   \n",
       "           Sun Jun 21 16:42:18 +0000 2020  NaN            False   \n",
       "           Fri May 29 20:20:42 +0000 2020  NaN            False   \n",
       "           Thu Jun 04 19:29:47 +0000 2020  NaN            False   \n",
       "           Thu Jun 18 14:48:03 +0000 2020  NaN             True   \n",
       "\n",
       "                                           retweet_count lang  \n",
       "user_id    created_at                                          \n",
       "1322535270 Fri Nov 01 11:15:10 +0000 2013            1.0   en  \n",
       "           Thu Oct 31 14:14:58 +0000 2013            1.0   en  \n",
       "           Thu Oct 31 14:49:38 +0000 2013            6.0   en  \n",
       "           Tue Apr 02 14:16:03 +0000 2013            0.0   en  \n",
       "701561502  Wed Jul 18 21:04:24 +0000 2012            0.0   en  \n",
       "...                                                  ...  ...  \n",
       "163570705  Mon Jun 01 18:26:06 +0000 2020           29.0   en  \n",
       "           Sun Jun 21 16:42:18 +0000 2020            3.0   en  \n",
       "           Fri May 29 20:20:42 +0000 2020           31.0   en  \n",
       "           Thu Jun 04 19:29:47 +0000 2020            6.0   en  \n",
       "           Thu Jun 18 14:48:03 +0000 2020           24.0   en  \n",
       "\n",
       "[35260 rows x 9 columns]"
      ]
     },
     "execution_count": 20,
     "metadata": {},
     "output_type": "execute_result"
    }
   ],
   "source": [
    "tweets_data.set_index(['user_id', 'created_at'])\n"
   ]
  },
  {
   "cell_type": "markdown",
   "metadata": {},
   "source": [
    "~ 40k rows dropped from tweets after cleaning."
   ]
  },
  {
   "cell_type": "markdown",
   "metadata": {},
   "source": [
    "###  Data Cleaning of \"Users_data\""
   ]
  },
  {
   "cell_type": "code",
   "execution_count": 21,
   "metadata": {},
   "outputs": [
    {
     "name": "stdout",
     "output_type": "stream",
     "text": [
      "<class 'pandas.core.frame.DataFrame'>\n",
      "RangeIndex: 598 entries, 0 to 597\n",
      "Data columns (total 16 columns):\n",
      " #   Column                  Non-Null Count  Dtype \n",
      "---  ------                  --------------  ----- \n",
      " 0   user_id                 598 non-null    int64 \n",
      " 1   name                    598 non-null    object\n",
      " 2   screen_name             598 non-null    object\n",
      " 3   location                371 non-null    object\n",
      " 4   description             474 non-null    object\n",
      " 5   entities                598 non-null    object\n",
      " 6   protected               598 non-null    int64 \n",
      " 7   followers_count         598 non-null    int64 \n",
      " 8   friends_count           598 non-null    int64 \n",
      " 9   listed_count            598 non-null    int64 \n",
      " 10  favourites_count        598 non-null    int64 \n",
      " 11  geo_enabled             598 non-null    int64 \n",
      " 12  statuses_count          598 non-null    int64 \n",
      " 13  shared_location         598 non-null    int64 \n",
      " 14  shared_profile_picture  598 non-null    int64 \n",
      " 15  desc_words_Count        598 non-null    int64 \n",
      "dtypes: int64(11), object(5)\n",
      "memory usage: 74.9+ KB\n"
     ]
    }
   ],
   "source": [
    "users_data.info()"
   ]
  },
  {
   "cell_type": "markdown",
   "metadata": {},
   "source": [
    "Dropping duplicate rows by key (user_id):"
   ]
  },
  {
   "cell_type": "code",
   "execution_count": 22,
   "metadata": {},
   "outputs": [],
   "source": [
    "users_data = users_data.drop_duplicates(subset = 'user_id',keep='first').reset_index(drop=True)"
   ]
  },
  {
   "cell_type": "code",
   "execution_count": 23,
   "metadata": {},
   "outputs": [
    {
     "data": {
      "text/plain": [
       "598"
      ]
     },
     "execution_count": 23,
     "metadata": {},
     "output_type": "execute_result"
    }
   ],
   "source": [
    "len(users_data)"
   ]
  },
  {
   "cell_type": "markdown",
   "metadata": {},
   "source": [
    " 0 rows dropped."
   ]
  },
  {
   "cell_type": "markdown",
   "metadata": {},
   "source": [
    "Merging (inner) user_ids from tweets data with users dataframe for matching number of user_ids:"
   ]
  },
  {
   "cell_type": "code",
   "execution_count": 24,
   "metadata": {},
   "outputs": [],
   "source": [
    "tweets_user_IDs = tweets_data[['user_id']].drop_duplicates().reset_index(drop=True)\n",
    "users_data = tweets_user_IDs.merge(users_data,on='user_id', how='inner')"
   ]
  },
  {
   "cell_type": "code",
   "execution_count": 25,
   "metadata": {},
   "outputs": [
    {
     "name": "stdout",
     "output_type": "stream",
     "text": [
      "<class 'pandas.core.frame.DataFrame'>\n",
      "Int64Index: 541 entries, 0 to 540\n",
      "Data columns (total 16 columns):\n",
      " #   Column                  Non-Null Count  Dtype \n",
      "---  ------                  --------------  ----- \n",
      " 0   user_id                 541 non-null    int64 \n",
      " 1   name                    541 non-null    object\n",
      " 2   screen_name             541 non-null    object\n",
      " 3   location                332 non-null    object\n",
      " 4   description             419 non-null    object\n",
      " 5   entities                541 non-null    object\n",
      " 6   protected               541 non-null    int64 \n",
      " 7   followers_count         541 non-null    int64 \n",
      " 8   friends_count           541 non-null    int64 \n",
      " 9   listed_count            541 non-null    int64 \n",
      " 10  favourites_count        541 non-null    int64 \n",
      " 11  geo_enabled             541 non-null    int64 \n",
      " 12  statuses_count          541 non-null    int64 \n",
      " 13  shared_location         541 non-null    int64 \n",
      " 14  shared_profile_picture  541 non-null    int64 \n",
      " 15  desc_words_Count        541 non-null    int64 \n",
      "dtypes: int64(11), object(5)\n",
      "memory usage: 71.9+ KB\n"
     ]
    }
   ],
   "source": [
    "users_data.info()"
   ]
  },
  {
   "cell_type": "markdown",
   "metadata": {},
   "source": [
    "~50 IDs filtered ==> now tweets data's user IDs are the same as the users data."
   ]
  },
  {
   "cell_type": "markdown",
   "metadata": {},
   "source": [
    "### Question 1\n",
    "\n",
    "**1.1:** For counting the number of hashtags, we applied the **loads** function from json library that basically translates the data from String to a the actual object (here: a list of dictionaries). \n",
    "After that, we applied len() for counting the number of dictionaries in each list."
   ]
  },
  {
   "cell_type": "code",
   "execution_count": 26,
   "metadata": {
    "scrolled": true
   },
   "outputs": [
    {
     "data": {
      "text/html": [
       "<div>\n",
       "<style scoped>\n",
       "    .dataframe tbody tr th:only-of-type {\n",
       "        vertical-align: middle;\n",
       "    }\n",
       "\n",
       "    .dataframe tbody tr th {\n",
       "        vertical-align: top;\n",
       "    }\n",
       "\n",
       "    .dataframe thead th {\n",
       "        text-align: right;\n",
       "    }\n",
       "</style>\n",
       "<table border=\"1\" class=\"dataframe\">\n",
       "  <thead>\n",
       "    <tr style=\"text-align: right;\">\n",
       "      <th></th>\n",
       "      <th>user_id</th>\n",
       "      <th>tweet_id</th>\n",
       "      <th>text</th>\n",
       "      <th>created_at</th>\n",
       "      <th>entities</th>\n",
       "      <th>hashtags</th>\n",
       "      <th>source</th>\n",
       "      <th>geo</th>\n",
       "      <th>is_quote_status</th>\n",
       "      <th>retweet_count</th>\n",
       "      <th>lang</th>\n",
       "      <th>hashtag_count</th>\n",
       "    </tr>\n",
       "  </thead>\n",
       "  <tbody>\n",
       "    <tr>\n",
       "      <th>0</th>\n",
       "      <td>1322535270</td>\n",
       "      <td>396000000000000000</td>\n",
       "      <td>RT @Desyfitrhiani: @AndhyNautika follback.</td>\n",
       "      <td>Fri Nov 01 11:15:10 +0000 2013</td>\n",
       "      <td>{\"hashtags\": [], \"symbols\": [], \"user_mentions...</td>\n",
       "      <td>[]</td>\n",
       "      <td>&lt;a href=\"http://blackberry.com/twitter\" rel=\"n...</td>\n",
       "      <td>NaN</td>\n",
       "      <td>False</td>\n",
       "      <td>1.0</td>\n",
       "      <td>en</td>\n",
       "      <td>0</td>\n",
       "    </tr>\n",
       "    <tr>\n",
       "      <th>1</th>\n",
       "      <td>1322535270</td>\n",
       "      <td>396000000000000000</td>\n",
       "      <td>RT @agooez_48: I don't know,who you are.</td>\n",
       "      <td>Thu Oct 31 14:14:58 +0000 2013</td>\n",
       "      <td>{\"hashtags\": [], \"symbols\": [], \"user_mentions...</td>\n",
       "      <td>[]</td>\n",
       "      <td>&lt;a href=\"http://blackberry.com/twitter\" rel=\"n...</td>\n",
       "      <td>NaN</td>\n",
       "      <td>False</td>\n",
       "      <td>1.0</td>\n",
       "      <td>en</td>\n",
       "      <td>0</td>\n",
       "    </tr>\n",
       "    <tr>\n",
       "      <th>2</th>\n",
       "      <td>1322535270</td>\n",
       "      <td>396000000000000000</td>\n",
       "      <td>RT @indha: love u so much......Arie......</td>\n",
       "      <td>Thu Oct 31 14:49:38 +0000 2013</td>\n",
       "      <td>{\"hashtags\": [], \"symbols\": [], \"user_mentions...</td>\n",
       "      <td>[]</td>\n",
       "      <td>&lt;a href=\"http://blackberry.com/twitter\" rel=\"n...</td>\n",
       "      <td>NaN</td>\n",
       "      <td>False</td>\n",
       "      <td>6.0</td>\n",
       "      <td>en</td>\n",
       "      <td>0</td>\n",
       "    </tr>\n",
       "    <tr>\n",
       "      <th>3</th>\n",
       "      <td>1322535270</td>\n",
       "      <td>319000000000000000</td>\n",
       "      <td>@agooez_48 foollback</td>\n",
       "      <td>Tue Apr 02 14:16:03 +0000 2013</td>\n",
       "      <td>{\"hashtags\": [], \"symbols\": [], \"user_mentions...</td>\n",
       "      <td>[]</td>\n",
       "      <td>&lt;a href=\"https://mobile.twitter.com\" rel=\"nofo...</td>\n",
       "      <td>NaN</td>\n",
       "      <td>False</td>\n",
       "      <td>0.0</td>\n",
       "      <td>en</td>\n",
       "      <td>0</td>\n",
       "    </tr>\n",
       "    <tr>\n",
       "      <th>4</th>\n",
       "      <td>701561502</td>\n",
       "      <td>226000000000000000</td>\n",
       "      <td>I don't even know how too use this ..\\n smh -_-</td>\n",
       "      <td>Wed Jul 18 21:04:24 +0000 2012</td>\n",
       "      <td>{\"hashtags\": [], \"symbols\": [], \"user_mentions...</td>\n",
       "      <td>[]</td>\n",
       "      <td>&lt;a href=\"http://twitter.com\" rel=\"nofollow\"&gt;Tw...</td>\n",
       "      <td>NaN</td>\n",
       "      <td>False</td>\n",
       "      <td>0.0</td>\n",
       "      <td>en</td>\n",
       "      <td>0</td>\n",
       "    </tr>\n",
       "  </tbody>\n",
       "</table>\n",
       "</div>"
      ],
      "text/plain": [
       "      user_id            tweet_id  \\\n",
       "0  1322535270  396000000000000000   \n",
       "1  1322535270  396000000000000000   \n",
       "2  1322535270  396000000000000000   \n",
       "3  1322535270  319000000000000000   \n",
       "4   701561502  226000000000000000   \n",
       "\n",
       "                                              text  \\\n",
       "0       RT @Desyfitrhiani: @AndhyNautika follback.   \n",
       "1         RT @agooez_48: I don't know,who you are.   \n",
       "2        RT @indha: love u so much......Arie......   \n",
       "3                             @agooez_48 foollback   \n",
       "4  I don't even know how too use this ..\\n smh -_-   \n",
       "\n",
       "                       created_at  \\\n",
       "0  Fri Nov 01 11:15:10 +0000 2013   \n",
       "1  Thu Oct 31 14:14:58 +0000 2013   \n",
       "2  Thu Oct 31 14:49:38 +0000 2013   \n",
       "3  Tue Apr 02 14:16:03 +0000 2013   \n",
       "4  Wed Jul 18 21:04:24 +0000 2012   \n",
       "\n",
       "                                            entities hashtags  \\\n",
       "0  {\"hashtags\": [], \"symbols\": [], \"user_mentions...       []   \n",
       "1  {\"hashtags\": [], \"symbols\": [], \"user_mentions...       []   \n",
       "2  {\"hashtags\": [], \"symbols\": [], \"user_mentions...       []   \n",
       "3  {\"hashtags\": [], \"symbols\": [], \"user_mentions...       []   \n",
       "4  {\"hashtags\": [], \"symbols\": [], \"user_mentions...       []   \n",
       "\n",
       "                                              source  geo  is_quote_status  \\\n",
       "0  <a href=\"http://blackberry.com/twitter\" rel=\"n...  NaN            False   \n",
       "1  <a href=\"http://blackberry.com/twitter\" rel=\"n...  NaN            False   \n",
       "2  <a href=\"http://blackberry.com/twitter\" rel=\"n...  NaN            False   \n",
       "3  <a href=\"https://mobile.twitter.com\" rel=\"nofo...  NaN            False   \n",
       "4  <a href=\"http://twitter.com\" rel=\"nofollow\">Tw...  NaN            False   \n",
       "\n",
       "   retweet_count lang  hashtag_count  \n",
       "0            1.0   en              0  \n",
       "1            1.0   en              0  \n",
       "2            6.0   en              0  \n",
       "3            0.0   en              0  \n",
       "4            0.0   en              0  "
      ]
     },
     "execution_count": 26,
     "metadata": {},
     "output_type": "execute_result"
    }
   ],
   "source": [
    "tweets_data[\"hashtag_count\"] = tweets_data[\"hashtags\"].apply(json.loads).apply(len)\n",
    "tweets_data.head()"
   ]
  },
  {
   "cell_type": "markdown",
   "metadata": {},
   "source": [
    "**1.2:** Here and in the following sections we utilize **lambda** expressions, and NumPy - **np.where**.\n",
    "<br>\n",
    "Below: return 0 if the value is NA."
   ]
  },
  {
   "cell_type": "code",
   "execution_count": 27,
   "metadata": {},
   "outputs": [
    {
     "data": {
      "text/plain": [
       "0    35109\n",
       "1      151\n",
       "Name: shared_geo_location, dtype: int64"
      ]
     },
     "execution_count": 27,
     "metadata": {},
     "output_type": "execute_result"
    }
   ],
   "source": [
    "tweets_data[\"shared_geo_location\"] = np.where(pd.isna(tweets_data[\"geo\"]),0,1)\n",
    "tweets_data['shared_geo_location'].value_counts()"
   ]
  },
  {
   "cell_type": "markdown",
   "metadata": {},
   "source": [
    "**1.3:** Check if the source contains the words \"Twitter Web Client\". If so - return PC. If not - it's a mobile phone."
   ]
  },
  {
   "cell_type": "code",
   "execution_count": 28,
   "metadata": {
    "scrolled": false
   },
   "outputs": [],
   "source": [
    "tweets_data[\"device\"] = tweets_data[\"source\"].apply(lambda x: 'PC' if 'Twitter Web Client' in x else 'Mobile')\n"
   ]
  },
  {
   "cell_type": "markdown",
   "metadata": {},
   "source": [
    "**1.4:** How many words in each tweet - executed by **splitting** the text into words and then applying **len()**."
   ]
  },
  {
   "cell_type": "code",
   "execution_count": 29,
   "metadata": {},
   "outputs": [],
   "source": [
    "tweets_data[\"word_count\"] = tweets_data[\"text\"].apply(lambda x: len(x.split()))\n"
   ]
  },
  {
   "cell_type": "markdown",
   "metadata": {},
   "source": [
    "### Question 2\n",
    "Lets take another look at our users data:"
   ]
  },
  {
   "cell_type": "code",
   "execution_count": 30,
   "metadata": {
    "scrolled": false
   },
   "outputs": [
    {
     "data": {
      "text/html": [
       "<div>\n",
       "<style scoped>\n",
       "    .dataframe tbody tr th:only-of-type {\n",
       "        vertical-align: middle;\n",
       "    }\n",
       "\n",
       "    .dataframe tbody tr th {\n",
       "        vertical-align: top;\n",
       "    }\n",
       "\n",
       "    .dataframe thead th {\n",
       "        text-align: right;\n",
       "    }\n",
       "</style>\n",
       "<table border=\"1\" class=\"dataframe\">\n",
       "  <thead>\n",
       "    <tr style=\"text-align: right;\">\n",
       "      <th></th>\n",
       "      <th>user_id</th>\n",
       "      <th>name</th>\n",
       "      <th>screen_name</th>\n",
       "      <th>location</th>\n",
       "      <th>description</th>\n",
       "      <th>entities</th>\n",
       "      <th>protected</th>\n",
       "      <th>followers_count</th>\n",
       "      <th>friends_count</th>\n",
       "      <th>listed_count</th>\n",
       "      <th>favourites_count</th>\n",
       "      <th>geo_enabled</th>\n",
       "      <th>statuses_count</th>\n",
       "      <th>shared_location</th>\n",
       "      <th>shared_profile_picture</th>\n",
       "      <th>desc_words_Count</th>\n",
       "    </tr>\n",
       "  </thead>\n",
       "  <tbody>\n",
       "    <tr>\n",
       "      <th>0</th>\n",
       "      <td>1322535270</td>\n",
       "      <td>Hamryandhy</td>\n",
       "      <td>AndhyNautika</td>\n",
       "      <td>Jakarta</td>\n",
       "      <td>Tdk yg lebih bagus selain menjdi dri sndiri</td>\n",
       "      <td>{\"description\": {\"urls\": []}}</td>\n",
       "      <td>0</td>\n",
       "      <td>20</td>\n",
       "      <td>41</td>\n",
       "      <td>0</td>\n",
       "      <td>3</td>\n",
       "      <td>0</td>\n",
       "      <td>49</td>\n",
       "      <td>1</td>\n",
       "      <td>1</td>\n",
       "      <td>8</td>\n",
       "    </tr>\n",
       "    <tr>\n",
       "      <th>1</th>\n",
       "      <td>701561502</td>\n",
       "      <td>Abby Pena</td>\n",
       "      <td>AbbyPena5</td>\n",
       "      <td>Lake Jackson,  Tx</td>\n",
       "      <td>Idk how too use this lol .</td>\n",
       "      <td>{\"url\": {\"urls\": [{\"url\": \"http://t.co/OHKIaVw...</td>\n",
       "      <td>0</td>\n",
       "      <td>33</td>\n",
       "      <td>53</td>\n",
       "      <td>0</td>\n",
       "      <td>0</td>\n",
       "      <td>0</td>\n",
       "      <td>1</td>\n",
       "      <td>1</td>\n",
       "      <td>1</td>\n",
       "      <td>7</td>\n",
       "    </tr>\n",
       "    <tr>\n",
       "      <th>2</th>\n",
       "      <td>321589427</td>\n",
       "      <td>Stephen Walt</td>\n",
       "      <td>stephenWalt</td>\n",
       "      <td>Brookline, MA</td>\n",
       "      <td>Professor of International Affairs, Harvard Ke...</td>\n",
       "      <td>{\"description\": {\"urls\": []}}</td>\n",
       "      <td>0</td>\n",
       "      <td>70804</td>\n",
       "      <td>588</td>\n",
       "      <td>1361</td>\n",
       "      <td>2387</td>\n",
       "      <td>0</td>\n",
       "      <td>8934</td>\n",
       "      <td>1</td>\n",
       "      <td>1</td>\n",
       "      <td>22</td>\n",
       "    </tr>\n",
       "    <tr>\n",
       "      <th>3</th>\n",
       "      <td>35423128</td>\n",
       "      <td>Ernesto Contreras</td>\n",
       "      <td>ErContreras</td>\n",
       "      <td>NaN</td>\n",
       "      <td>Director de cine: PÃ¡rpados Azules, Seguir Sie...</td>\n",
       "      <td>{\"url\": {\"urls\": [{\"url\": \"https://t.co/1qSqoK...</td>\n",
       "      <td>0</td>\n",
       "      <td>6688</td>\n",
       "      <td>828</td>\n",
       "      <td>68</td>\n",
       "      <td>7806</td>\n",
       "      <td>0</td>\n",
       "      <td>2658</td>\n",
       "      <td>0</td>\n",
       "      <td>1</td>\n",
       "      <td>14</td>\n",
       "    </tr>\n",
       "    <tr>\n",
       "      <th>4</th>\n",
       "      <td>1383406579</td>\n",
       "      <td>A.E.P</td>\n",
       "      <td>Amdarekhaptra</td>\n",
       "      <td>Kotadaeng</td>\n",
       "      <td>âjadikan hidup semudah dan seindah mungkin â</td>\n",
       "      <td>{\"description\": {\"urls\": []}}</td>\n",
       "      <td>0</td>\n",
       "      <td>30</td>\n",
       "      <td>50</td>\n",
       "      <td>0</td>\n",
       "      <td>0</td>\n",
       "      <td>0</td>\n",
       "      <td>13</td>\n",
       "      <td>1</td>\n",
       "      <td>1</td>\n",
       "      <td>7</td>\n",
       "    </tr>\n",
       "  </tbody>\n",
       "</table>\n",
       "</div>"
      ],
      "text/plain": [
       "      user_id               name    screen_name           location  \\\n",
       "0  1322535270         Hamryandhy   AndhyNautika            Jakarta   \n",
       "1   701561502          Abby Pena      AbbyPena5  Lake Jackson,  Tx   \n",
       "2   321589427       Stephen Walt    stephenWalt      Brookline, MA   \n",
       "3    35423128  Ernesto Contreras    ErContreras                NaN   \n",
       "4  1383406579              A.E.P  Amdarekhaptra          Kotadaeng   \n",
       "\n",
       "                                         description  \\\n",
       "0        Tdk yg lebih bagus selain menjdi dri sndiri   \n",
       "1                         Idk how too use this lol .   \n",
       "2  Professor of International Affairs, Harvard Ke...   \n",
       "3  Director de cine: PÃ¡rpados Azules, Seguir Sie...   \n",
       "4   âjadikan hidup semudah dan seindah mungkin â   \n",
       "\n",
       "                                            entities  protected  \\\n",
       "0                      {\"description\": {\"urls\": []}}          0   \n",
       "1  {\"url\": {\"urls\": [{\"url\": \"http://t.co/OHKIaVw...          0   \n",
       "2                      {\"description\": {\"urls\": []}}          0   \n",
       "3  {\"url\": {\"urls\": [{\"url\": \"https://t.co/1qSqoK...          0   \n",
       "4                      {\"description\": {\"urls\": []}}          0   \n",
       "\n",
       "   followers_count  friends_count  listed_count  favourites_count  \\\n",
       "0               20             41             0                 3   \n",
       "1               33             53             0                 0   \n",
       "2            70804            588          1361              2387   \n",
       "3             6688            828            68              7806   \n",
       "4               30             50             0                 0   \n",
       "\n",
       "   geo_enabled  statuses_count  shared_location  shared_profile_picture  \\\n",
       "0            0              49                1                       1   \n",
       "1            0               1                1                       1   \n",
       "2            0            8934                1                       1   \n",
       "3            0            2658                0                       1   \n",
       "4            0              13                1                       1   \n",
       "\n",
       "   desc_words_Count  \n",
       "0                 8  \n",
       "1                 7  \n",
       "2                22  \n",
       "3                14  \n",
       "4                 7  "
      ]
     },
     "execution_count": 30,
     "metadata": {},
     "output_type": "execute_result"
    }
   ],
   "source": [
    "users_data.head()"
   ]
  },
  {
   "cell_type": "markdown",
   "metadata": {},
   "source": [
    "**2.1:** How many words in each user's description - same as **1.4** (return 0 if the value is NA)."
   ]
  },
  {
   "cell_type": "code",
   "execution_count": 31,
   "metadata": {},
   "outputs": [],
   "source": [
    "users_data[\"Num_words_in_desc\"] = users_data[\"description\"].apply(lambda x: 0 if pd.isna(x) else len(x.split()))"
   ]
  },
  {
   "cell_type": "markdown",
   "metadata": {},
   "source": [
    "**2.2:** A twitter user is considered a celebrity if they have more than 100k followers. \n"
   ]
  },
  {
   "cell_type": "code",
   "execution_count": 32,
   "metadata": {
    "scrolled": true
   },
   "outputs": [
    {
     "data": {
      "text/html": [
       "<div>\n",
       "<style scoped>\n",
       "    .dataframe tbody tr th:only-of-type {\n",
       "        vertical-align: middle;\n",
       "    }\n",
       "\n",
       "    .dataframe tbody tr th {\n",
       "        vertical-align: top;\n",
       "    }\n",
       "\n",
       "    .dataframe thead th {\n",
       "        text-align: right;\n",
       "    }\n",
       "</style>\n",
       "<table border=\"1\" class=\"dataframe\">\n",
       "  <thead>\n",
       "    <tr style=\"text-align: right;\">\n",
       "      <th></th>\n",
       "      <th>user_id</th>\n",
       "      <th>name</th>\n",
       "      <th>screen_name</th>\n",
       "      <th>location</th>\n",
       "      <th>description</th>\n",
       "      <th>entities</th>\n",
       "      <th>protected</th>\n",
       "      <th>followers_count</th>\n",
       "      <th>friends_count</th>\n",
       "      <th>listed_count</th>\n",
       "      <th>favourites_count</th>\n",
       "      <th>geo_enabled</th>\n",
       "      <th>statuses_count</th>\n",
       "      <th>shared_location</th>\n",
       "      <th>shared_profile_picture</th>\n",
       "      <th>desc_words_Count</th>\n",
       "      <th>Num_words_in_desc</th>\n",
       "      <th>Is_celeb</th>\n",
       "    </tr>\n",
       "  </thead>\n",
       "  <tbody>\n",
       "    <tr>\n",
       "      <th>10</th>\n",
       "      <td>52422182</td>\n",
       "      <td>Julio Astillero</td>\n",
       "      <td>julioastillero</td>\n",
       "      <td>Ciudad de MÃ©xico</td>\n",
       "      <td>Los comentarios que realizo aquÃ­ corresponden...</td>\n",
       "      <td>{\"url\": {\"urls\": [{\"url\": \"https://t.co/roGlHC...</td>\n",
       "      <td>0</td>\n",
       "      <td>668156</td>\n",
       "      <td>31276</td>\n",
       "      <td>3692</td>\n",
       "      <td>1115</td>\n",
       "      <td>0</td>\n",
       "      <td>246383</td>\n",
       "      <td>1</td>\n",
       "      <td>1</td>\n",
       "      <td>25</td>\n",
       "      <td>25</td>\n",
       "      <td>Yes</td>\n",
       "    </tr>\n",
       "    <tr>\n",
       "      <th>12</th>\n",
       "      <td>300548967</td>\n",
       "      <td>Jerome Ponce</td>\n",
       "      <td>ponce_jerome</td>\n",
       "      <td>MNL</td>\n",
       "      <td>Living life to its fullest ð§ a.bacudio@gmai...</td>\n",
       "      <td>{\"url\": {\"urls\": [{\"url\": \"https://t.co/OEuFzs...</td>\n",
       "      <td>0</td>\n",
       "      <td>1276044</td>\n",
       "      <td>123</td>\n",
       "      <td>186</td>\n",
       "      <td>2</td>\n",
       "      <td>1</td>\n",
       "      <td>9086</td>\n",
       "      <td>1</td>\n",
       "      <td>1</td>\n",
       "      <td>12</td>\n",
       "      <td>12</td>\n",
       "      <td>Yes</td>\n",
       "    </tr>\n",
       "    <tr>\n",
       "      <th>14</th>\n",
       "      <td>43908012</td>\n",
       "      <td>Marvin</td>\n",
       "      <td>RevistaMarvin</td>\n",
       "      <td>NaN</td>\n",
       "      <td>Tenemos 19 aÃ±os hablando de entretenimiento.\\...</td>\n",
       "      <td>{\"url\": {\"urls\": [{\"url\": \"https://t.co/Tdc9bq...</td>\n",
       "      <td>0</td>\n",
       "      <td>245655</td>\n",
       "      <td>1842</td>\n",
       "      <td>1378</td>\n",
       "      <td>8782</td>\n",
       "      <td>1</td>\n",
       "      <td>82159</td>\n",
       "      <td>0</td>\n",
       "      <td>1</td>\n",
       "      <td>11</td>\n",
       "      <td>11</td>\n",
       "      <td>Yes</td>\n",
       "    </tr>\n",
       "    <tr>\n",
       "      <th>20</th>\n",
       "      <td>871963218</td>\n",
       "      <td>Enchong Dee</td>\n",
       "      <td>enchongdee777</td>\n",
       "      <td>NaN</td>\n",
       "      <td>Filipino</td>\n",
       "      <td>{\"description\": {\"urls\": []}}</td>\n",
       "      <td>0</td>\n",
       "      <td>683407</td>\n",
       "      <td>248</td>\n",
       "      <td>202</td>\n",
       "      <td>6965</td>\n",
       "      <td>1</td>\n",
       "      <td>8690</td>\n",
       "      <td>0</td>\n",
       "      <td>1</td>\n",
       "      <td>1</td>\n",
       "      <td>1</td>\n",
       "      <td>Yes</td>\n",
       "    </tr>\n",
       "    <tr>\n",
       "      <th>22</th>\n",
       "      <td>107544554</td>\n",
       "      <td>Peter Gabriel</td>\n",
       "      <td>itspetergabriel</td>\n",
       "      <td>The Wild West of England</td>\n",
       "      <td>Updates on everything Peter Gabriel from https...</td>\n",
       "      <td>{\"url\": {\"urls\": [{\"url\": \"https://t.co/QT378s...</td>\n",
       "      <td>0</td>\n",
       "      <td>206896</td>\n",
       "      <td>98</td>\n",
       "      <td>3481</td>\n",
       "      <td>235</td>\n",
       "      <td>1</td>\n",
       "      <td>1979</td>\n",
       "      <td>1</td>\n",
       "      <td>1</td>\n",
       "      <td>7</td>\n",
       "      <td>7</td>\n",
       "      <td>Yes</td>\n",
       "    </tr>\n",
       "    <tr>\n",
       "      <th>...</th>\n",
       "      <td>...</td>\n",
       "      <td>...</td>\n",
       "      <td>...</td>\n",
       "      <td>...</td>\n",
       "      <td>...</td>\n",
       "      <td>...</td>\n",
       "      <td>...</td>\n",
       "      <td>...</td>\n",
       "      <td>...</td>\n",
       "      <td>...</td>\n",
       "      <td>...</td>\n",
       "      <td>...</td>\n",
       "      <td>...</td>\n",
       "      <td>...</td>\n",
       "      <td>...</td>\n",
       "      <td>...</td>\n",
       "      <td>...</td>\n",
       "      <td>...</td>\n",
       "    </tr>\n",
       "    <tr>\n",
       "      <th>522</th>\n",
       "      <td>241964676</td>\n",
       "      <td>Grantland</td>\n",
       "      <td>Grantland33</td>\n",
       "      <td>Los Angeles, CA</td>\n",
       "      <td>Home of the Triangle | Hollywood Prospectus.</td>\n",
       "      <td>{\"url\": {\"urls\": [{\"url\": \"http://t.co/qx60xDY...</td>\n",
       "      <td>0</td>\n",
       "      <td>402050</td>\n",
       "      <td>216</td>\n",
       "      <td>6779</td>\n",
       "      <td>195</td>\n",
       "      <td>0</td>\n",
       "      <td>26279</td>\n",
       "      <td>1</td>\n",
       "      <td>1</td>\n",
       "      <td>7</td>\n",
       "      <td>7</td>\n",
       "      <td>Yes</td>\n",
       "    </tr>\n",
       "    <tr>\n",
       "      <th>526</th>\n",
       "      <td>28826893</td>\n",
       "      <td>Howard Joel Wolowitz</td>\n",
       "      <td>iWolowitz</td>\n",
       "      <td>Feudo Franco de Valyria</td>\n",
       "      <td>PARODIA. Ingeniero aeroespacial, mi forma de l...</td>\n",
       "      <td>{\"description\": {\"urls\": []}}</td>\n",
       "      <td>0</td>\n",
       "      <td>266608</td>\n",
       "      <td>5799</td>\n",
       "      <td>861</td>\n",
       "      <td>64995</td>\n",
       "      <td>0</td>\n",
       "      <td>46842</td>\n",
       "      <td>1</td>\n",
       "      <td>1</td>\n",
       "      <td>20</td>\n",
       "      <td>20</td>\n",
       "      <td>Yes</td>\n",
       "    </tr>\n",
       "    <tr>\n",
       "      <th>529</th>\n",
       "      <td>63701775</td>\n",
       "      <td>Maine Mendoza</td>\n",
       "      <td>mainedcm</td>\n",
       "      <td>NaN</td>\n",
       "      <td>yup, I am that girl</td>\n",
       "      <td>{\"description\": {\"urls\": []}}</td>\n",
       "      <td>0</td>\n",
       "      <td>6015330</td>\n",
       "      <td>337</td>\n",
       "      <td>1664</td>\n",
       "      <td>2184</td>\n",
       "      <td>1</td>\n",
       "      <td>39861</td>\n",
       "      <td>0</td>\n",
       "      <td>1</td>\n",
       "      <td>5</td>\n",
       "      <td>5</td>\n",
       "      <td>Yes</td>\n",
       "    </tr>\n",
       "    <tr>\n",
       "      <th>530</th>\n",
       "      <td>62216533</td>\n",
       "      <td>Robi Domingo</td>\n",
       "      <td>robertmarion</td>\n",
       "      <td>Philippines</td>\n",
       "      <td>| noun | linking verb| noun/verb/adjective | -...</td>\n",
       "      <td>{\"url\": {\"urls\": [{\"url\": \"https://t.co/6YCF7D...</td>\n",
       "      <td>0</td>\n",
       "      <td>3051668</td>\n",
       "      <td>477</td>\n",
       "      <td>1789</td>\n",
       "      <td>5173</td>\n",
       "      <td>1</td>\n",
       "      <td>8128</td>\n",
       "      <td>1</td>\n",
       "      <td>1</td>\n",
       "      <td>11</td>\n",
       "      <td>11</td>\n",
       "      <td>Yes</td>\n",
       "    </tr>\n",
       "    <tr>\n",
       "      <th>531</th>\n",
       "      <td>48822802</td>\n",
       "      <td>Barbijaputa</td>\n",
       "      <td>Barbijaputa</td>\n",
       "      <td>#RadFem</td>\n",
       "      <td>Soy responsable de lo que yo digo, no de lo qu...</td>\n",
       "      <td>{\"url\": {\"urls\": [{\"url\": \"https://t.co/eHNfZN...</td>\n",
       "      <td>0</td>\n",
       "      <td>298274</td>\n",
       "      <td>803</td>\n",
       "      <td>3114</td>\n",
       "      <td>41225</td>\n",
       "      <td>0</td>\n",
       "      <td>96303</td>\n",
       "      <td>1</td>\n",
       "      <td>1</td>\n",
       "      <td>13</td>\n",
       "      <td>13</td>\n",
       "      <td>Yes</td>\n",
       "    </tr>\n",
       "  </tbody>\n",
       "</table>\n",
       "<p>157 rows × 18 columns</p>\n",
       "</div>"
      ],
      "text/plain": [
       "       user_id                  name      screen_name  \\\n",
       "10    52422182       Julio Astillero   julioastillero   \n",
       "12   300548967          Jerome Ponce     ponce_jerome   \n",
       "14    43908012                Marvin    RevistaMarvin   \n",
       "20   871963218           Enchong Dee    enchongdee777   \n",
       "22   107544554         Peter Gabriel  itspetergabriel   \n",
       "..         ...                   ...              ...   \n",
       "522  241964676             Grantland      Grantland33   \n",
       "526   28826893  Howard Joel Wolowitz        iWolowitz   \n",
       "529   63701775         Maine Mendoza         mainedcm   \n",
       "530   62216533          Robi Domingo     robertmarion   \n",
       "531   48822802           Barbijaputa      Barbijaputa   \n",
       "\n",
       "                     location  \\\n",
       "10          Ciudad de MÃ©xico   \n",
       "12                        MNL   \n",
       "14                        NaN   \n",
       "20                        NaN   \n",
       "22   The Wild West of England   \n",
       "..                        ...   \n",
       "522           Los Angeles, CA   \n",
       "526   Feudo Franco de Valyria   \n",
       "529                       NaN   \n",
       "530               Philippines   \n",
       "531                   #RadFem   \n",
       "\n",
       "                                           description  \\\n",
       "10   Los comentarios que realizo aquÃ­ corresponden...   \n",
       "12   Living life to its fullest ð§ a.bacudio@gmai...   \n",
       "14   Tenemos 19 aÃ±os hablando de entretenimiento.\\...   \n",
       "20                                            Filipino   \n",
       "22   Updates on everything Peter Gabriel from https...   \n",
       "..                                                 ...   \n",
       "522       Home of the Triangle | Hollywood Prospectus.   \n",
       "526  PARODIA. Ingeniero aeroespacial, mi forma de l...   \n",
       "529                                yup, I am that girl   \n",
       "530  | noun | linking verb| noun/verb/adjective | -...   \n",
       "531  Soy responsable de lo que yo digo, no de lo qu...   \n",
       "\n",
       "                                              entities  protected  \\\n",
       "10   {\"url\": {\"urls\": [{\"url\": \"https://t.co/roGlHC...          0   \n",
       "12   {\"url\": {\"urls\": [{\"url\": \"https://t.co/OEuFzs...          0   \n",
       "14   {\"url\": {\"urls\": [{\"url\": \"https://t.co/Tdc9bq...          0   \n",
       "20                       {\"description\": {\"urls\": []}}          0   \n",
       "22   {\"url\": {\"urls\": [{\"url\": \"https://t.co/QT378s...          0   \n",
       "..                                                 ...        ...   \n",
       "522  {\"url\": {\"urls\": [{\"url\": \"http://t.co/qx60xDY...          0   \n",
       "526                      {\"description\": {\"urls\": []}}          0   \n",
       "529                      {\"description\": {\"urls\": []}}          0   \n",
       "530  {\"url\": {\"urls\": [{\"url\": \"https://t.co/6YCF7D...          0   \n",
       "531  {\"url\": {\"urls\": [{\"url\": \"https://t.co/eHNfZN...          0   \n",
       "\n",
       "     followers_count  friends_count  listed_count  favourites_count  \\\n",
       "10            668156          31276          3692              1115   \n",
       "12           1276044            123           186                 2   \n",
       "14            245655           1842          1378              8782   \n",
       "20            683407            248           202              6965   \n",
       "22            206896             98          3481               235   \n",
       "..               ...            ...           ...               ...   \n",
       "522           402050            216          6779               195   \n",
       "526           266608           5799           861             64995   \n",
       "529          6015330            337          1664              2184   \n",
       "530          3051668            477          1789              5173   \n",
       "531           298274            803          3114             41225   \n",
       "\n",
       "     geo_enabled  statuses_count  shared_location  shared_profile_picture  \\\n",
       "10             0          246383                1                       1   \n",
       "12             1            9086                1                       1   \n",
       "14             1           82159                0                       1   \n",
       "20             1            8690                0                       1   \n",
       "22             1            1979                1                       1   \n",
       "..           ...             ...              ...                     ...   \n",
       "522            0           26279                1                       1   \n",
       "526            0           46842                1                       1   \n",
       "529            1           39861                0                       1   \n",
       "530            1            8128                1                       1   \n",
       "531            0           96303                1                       1   \n",
       "\n",
       "     desc_words_Count  Num_words_in_desc Is_celeb  \n",
       "10                 25                 25      Yes  \n",
       "12                 12                 12      Yes  \n",
       "14                 11                 11      Yes  \n",
       "20                  1                  1      Yes  \n",
       "22                  7                  7      Yes  \n",
       "..                ...                ...      ...  \n",
       "522                 7                  7      Yes  \n",
       "526                20                 20      Yes  \n",
       "529                 5                  5      Yes  \n",
       "530                11                 11      Yes  \n",
       "531                13                 13      Yes  \n",
       "\n",
       "[157 rows x 18 columns]"
      ]
     },
     "execution_count": 32,
     "metadata": {},
     "output_type": "execute_result"
    }
   ],
   "source": [
    "users_data['Is_celeb'] = np.where(users_data['followers_count']>=100000,'Yes','No')\n",
    "\n",
    "#test the code:\n",
    "users_data[users_data['Is_celeb']=='Yes']"
   ]
  },
  {
   "cell_type": "markdown",
   "metadata": {},
   "source": [
    "157 celebs."
   ]
  },
  {
   "cell_type": "markdown",
   "metadata": {},
   "source": [
    "**2.3:** In this section, our thought process goes as follows:\n",
    "<br>\n",
    "<br>\n",
    "We use **groupby** for grouping all the tweets for each user id, then count them.\n",
    "\n"
   ]
  },
  {
   "cell_type": "code",
   "execution_count": 33,
   "metadata": {},
   "outputs": [
    {
     "data": {
      "text/html": [
       "<div>\n",
       "<style scoped>\n",
       "    .dataframe tbody tr th:only-of-type {\n",
       "        vertical-align: middle;\n",
       "    }\n",
       "\n",
       "    .dataframe tbody tr th {\n",
       "        vertical-align: top;\n",
       "    }\n",
       "\n",
       "    .dataframe thead th {\n",
       "        text-align: right;\n",
       "    }\n",
       "</style>\n",
       "<table border=\"1\" class=\"dataframe\">\n",
       "  <thead>\n",
       "    <tr style=\"text-align: right;\">\n",
       "      <th></th>\n",
       "      <th>user_id</th>\n",
       "      <th>Collected_tweets</th>\n",
       "    </tr>\n",
       "  </thead>\n",
       "  <tbody>\n",
       "    <tr>\n",
       "      <th>0</th>\n",
       "      <td>1322535270</td>\n",
       "      <td>4</td>\n",
       "    </tr>\n",
       "    <tr>\n",
       "      <th>1</th>\n",
       "      <td>701561502</td>\n",
       "      <td>1</td>\n",
       "    </tr>\n",
       "    <tr>\n",
       "      <th>2</th>\n",
       "      <td>321589427</td>\n",
       "      <td>196</td>\n",
       "    </tr>\n",
       "    <tr>\n",
       "      <th>3</th>\n",
       "      <td>35423128</td>\n",
       "      <td>7</td>\n",
       "    </tr>\n",
       "    <tr>\n",
       "      <th>4</th>\n",
       "      <td>1383406579</td>\n",
       "      <td>4</td>\n",
       "    </tr>\n",
       "    <tr>\n",
       "      <th>...</th>\n",
       "      <td>...</td>\n",
       "      <td>...</td>\n",
       "    </tr>\n",
       "    <tr>\n",
       "      <th>536</th>\n",
       "      <td>225921757</td>\n",
       "      <td>189</td>\n",
       "    </tr>\n",
       "    <tr>\n",
       "      <th>537</th>\n",
       "      <td>2634686733</td>\n",
       "      <td>42</td>\n",
       "    </tr>\n",
       "    <tr>\n",
       "      <th>538</th>\n",
       "      <td>566826696</td>\n",
       "      <td>5</td>\n",
       "    </tr>\n",
       "    <tr>\n",
       "      <th>539</th>\n",
       "      <td>1445627036</td>\n",
       "      <td>7</td>\n",
       "    </tr>\n",
       "    <tr>\n",
       "      <th>540</th>\n",
       "      <td>163570705</td>\n",
       "      <td>182</td>\n",
       "    </tr>\n",
       "  </tbody>\n",
       "</table>\n",
       "<p>541 rows × 2 columns</p>\n",
       "</div>"
      ],
      "text/plain": [
       "        user_id  Collected_tweets\n",
       "0    1322535270                 4\n",
       "1     701561502                 1\n",
       "2     321589427               196\n",
       "3      35423128                 7\n",
       "4    1383406579                 4\n",
       "..          ...               ...\n",
       "536   225921757               189\n",
       "537  2634686733                42\n",
       "538   566826696                 5\n",
       "539  1445627036                 7\n",
       "540   163570705               182\n",
       "\n",
       "[541 rows x 2 columns]"
      ]
     },
     "execution_count": 33,
     "metadata": {},
     "output_type": "execute_result"
    }
   ],
   "source": [
    "id_groups = tweets_data.groupby('user_id') #GroupBy object\n",
    "\n",
    "users_data['Collected_tweets'] = users_data.apply(lambda x: id_groups.get_group(x['user_id']).count()['tweet_id'],axis=1)\n",
    "users_data[['user_id','Collected_tweets']]"
   ]
  },
  {
   "cell_type": "markdown",
   "metadata": {},
   "source": [
    "**2.4:** We will divide the 'Collected_tweets' column by 'statuses_count' column to get the percentages of tweets collected.<br><br>\n",
    "Also, we check if their are invalid results (more collected tweets than status count); if invalid, replace value with **NaN**."
   ]
  },
  {
   "cell_type": "code",
   "execution_count": 34,
   "metadata": {
    "scrolled": true
   },
   "outputs": [
    {
     "data": {
      "text/html": [
       "<div>\n",
       "<style scoped>\n",
       "    .dataframe tbody tr th:only-of-type {\n",
       "        vertical-align: middle;\n",
       "    }\n",
       "\n",
       "    .dataframe tbody tr th {\n",
       "        vertical-align: top;\n",
       "    }\n",
       "\n",
       "    .dataframe thead th {\n",
       "        text-align: right;\n",
       "    }\n",
       "</style>\n",
       "<table border=\"1\" class=\"dataframe\">\n",
       "  <thead>\n",
       "    <tr style=\"text-align: right;\">\n",
       "      <th></th>\n",
       "      <th>user_id</th>\n",
       "      <th>statuses_count</th>\n",
       "      <th>Collected_tweets</th>\n",
       "      <th>Collected_tweets_percent</th>\n",
       "    </tr>\n",
       "  </thead>\n",
       "  <tbody>\n",
       "    <tr>\n",
       "      <th>0</th>\n",
       "      <td>1322535270</td>\n",
       "      <td>49</td>\n",
       "      <td>4</td>\n",
       "      <td>0.081633</td>\n",
       "    </tr>\n",
       "    <tr>\n",
       "      <th>1</th>\n",
       "      <td>701561502</td>\n",
       "      <td>1</td>\n",
       "      <td>1</td>\n",
       "      <td>1.000000</td>\n",
       "    </tr>\n",
       "    <tr>\n",
       "      <th>2</th>\n",
       "      <td>321589427</td>\n",
       "      <td>8934</td>\n",
       "      <td>196</td>\n",
       "      <td>0.021939</td>\n",
       "    </tr>\n",
       "    <tr>\n",
       "      <th>3</th>\n",
       "      <td>35423128</td>\n",
       "      <td>2658</td>\n",
       "      <td>7</td>\n",
       "      <td>0.002634</td>\n",
       "    </tr>\n",
       "    <tr>\n",
       "      <th>4</th>\n",
       "      <td>1383406579</td>\n",
       "      <td>13</td>\n",
       "      <td>4</td>\n",
       "      <td>0.307692</td>\n",
       "    </tr>\n",
       "    <tr>\n",
       "      <th>...</th>\n",
       "      <td>...</td>\n",
       "      <td>...</td>\n",
       "      <td>...</td>\n",
       "      <td>...</td>\n",
       "    </tr>\n",
       "    <tr>\n",
       "      <th>536</th>\n",
       "      <td>225921757</td>\n",
       "      <td>7429</td>\n",
       "      <td>189</td>\n",
       "      <td>0.025441</td>\n",
       "    </tr>\n",
       "    <tr>\n",
       "      <th>537</th>\n",
       "      <td>2634686733</td>\n",
       "      <td>51</td>\n",
       "      <td>42</td>\n",
       "      <td>0.823529</td>\n",
       "    </tr>\n",
       "    <tr>\n",
       "      <th>538</th>\n",
       "      <td>566826696</td>\n",
       "      <td>6</td>\n",
       "      <td>5</td>\n",
       "      <td>0.833333</td>\n",
       "    </tr>\n",
       "    <tr>\n",
       "      <th>539</th>\n",
       "      <td>1445627036</td>\n",
       "      <td>397</td>\n",
       "      <td>7</td>\n",
       "      <td>0.017632</td>\n",
       "    </tr>\n",
       "    <tr>\n",
       "      <th>540</th>\n",
       "      <td>163570705</td>\n",
       "      <td>7735</td>\n",
       "      <td>182</td>\n",
       "      <td>0.023529</td>\n",
       "    </tr>\n",
       "  </tbody>\n",
       "</table>\n",
       "<p>541 rows × 4 columns</p>\n",
       "</div>"
      ],
      "text/plain": [
       "        user_id  statuses_count  Collected_tweets  Collected_tweets_percent\n",
       "0    1322535270              49                 4                  0.081633\n",
       "1     701561502               1                 1                  1.000000\n",
       "2     321589427            8934               196                  0.021939\n",
       "3      35423128            2658                 7                  0.002634\n",
       "4    1383406579              13                 4                  0.307692\n",
       "..          ...             ...               ...                       ...\n",
       "536   225921757            7429               189                  0.025441\n",
       "537  2634686733              51                42                  0.823529\n",
       "538   566826696               6                 5                  0.833333\n",
       "539  1445627036             397                 7                  0.017632\n",
       "540   163570705            7735               182                  0.023529\n",
       "\n",
       "[541 rows x 4 columns]"
      ]
     },
     "execution_count": 34,
     "metadata": {},
     "output_type": "execute_result"
    }
   ],
   "source": [
    "users_data['Collected_tweets_percent'] = users_data.apply(lambda x: np.nan if x['Collected_tweets']>x['statuses_count'] else x['Collected_tweets']/x['statuses_count'], axis=1)\n",
    "users_data[['user_id','statuses_count','Collected_tweets','Collected_tweets_percent']]"
   ]
  },
  {
   "cell_type": "markdown",
   "metadata": {},
   "source": [
    "How many invalid occurences?"
   ]
  },
  {
   "cell_type": "code",
   "execution_count": 35,
   "metadata": {},
   "outputs": [
    {
     "data": {
      "text/plain": [
       "1"
      ]
     },
     "execution_count": 35,
     "metadata": {},
     "output_type": "execute_result"
    }
   ],
   "source": [
    "users_data.Collected_tweets_percent.isna().sum()"
   ]
  },
  {
   "cell_type": "markdown",
   "metadata": {},
   "source": [
    "This is the invalid user: "
   ]
  },
  {
   "cell_type": "code",
   "execution_count": 36,
   "metadata": {},
   "outputs": [
    {
     "data": {
      "text/html": [
       "<div>\n",
       "<style scoped>\n",
       "    .dataframe tbody tr th:only-of-type {\n",
       "        vertical-align: middle;\n",
       "    }\n",
       "\n",
       "    .dataframe tbody tr th {\n",
       "        vertical-align: top;\n",
       "    }\n",
       "\n",
       "    .dataframe thead th {\n",
       "        text-align: right;\n",
       "    }\n",
       "</style>\n",
       "<table border=\"1\" class=\"dataframe\">\n",
       "  <thead>\n",
       "    <tr style=\"text-align: right;\">\n",
       "      <th></th>\n",
       "      <th>user_id</th>\n",
       "      <th>name</th>\n",
       "      <th>screen_name</th>\n",
       "      <th>location</th>\n",
       "      <th>description</th>\n",
       "      <th>entities</th>\n",
       "      <th>protected</th>\n",
       "      <th>followers_count</th>\n",
       "      <th>friends_count</th>\n",
       "      <th>listed_count</th>\n",
       "      <th>favourites_count</th>\n",
       "      <th>geo_enabled</th>\n",
       "      <th>statuses_count</th>\n",
       "      <th>shared_location</th>\n",
       "      <th>shared_profile_picture</th>\n",
       "      <th>desc_words_Count</th>\n",
       "      <th>Num_words_in_desc</th>\n",
       "      <th>Is_celeb</th>\n",
       "      <th>Collected_tweets</th>\n",
       "      <th>Collected_tweets_percent</th>\n",
       "    </tr>\n",
       "  </thead>\n",
       "  <tbody>\n",
       "    <tr>\n",
       "      <th>527</th>\n",
       "      <td>3227650336</td>\n",
       "      <td>Girl Things</td>\n",
       "      <td>girIthingss</td>\n",
       "      <td>NaN</td>\n",
       "      <td>Tweeting everything Girls (Content not owned u...</td>\n",
       "      <td>{\"description\": {\"urls\": []}}</td>\n",
       "      <td>0</td>\n",
       "      <td>48955</td>\n",
       "      <td>44529</td>\n",
       "      <td>27</td>\n",
       "      <td>141</td>\n",
       "      <td>0</td>\n",
       "      <td>28</td>\n",
       "      <td>0</td>\n",
       "      <td>1</td>\n",
       "      <td>8</td>\n",
       "      <td>8</td>\n",
       "      <td>No</td>\n",
       "      <td>182</td>\n",
       "      <td>NaN</td>\n",
       "    </tr>\n",
       "  </tbody>\n",
       "</table>\n",
       "</div>"
      ],
      "text/plain": [
       "        user_id         name  screen_name location  \\\n",
       "527  3227650336  Girl Things  girIthingss      NaN   \n",
       "\n",
       "                                           description  \\\n",
       "527  Tweeting everything Girls (Content not owned u...   \n",
       "\n",
       "                          entities  protected  followers_count  friends_count  \\\n",
       "527  {\"description\": {\"urls\": []}}          0            48955          44529   \n",
       "\n",
       "     listed_count  favourites_count  geo_enabled  statuses_count  \\\n",
       "527            27               141            0              28   \n",
       "\n",
       "     shared_location  shared_profile_picture  desc_words_Count  \\\n",
       "527                0                       1                 8   \n",
       "\n",
       "     Num_words_in_desc Is_celeb  Collected_tweets  Collected_tweets_percent  \n",
       "527                  8       No               182                       NaN  "
      ]
     },
     "execution_count": 36,
     "metadata": {},
     "output_type": "execute_result"
    }
   ],
   "source": [
    "users_data[users_data['Collected_tweets_percent'].isna()]"
   ]
  },
  {
   "cell_type": "markdown",
   "metadata": {},
   "source": [
    "### Question 3<br>\n",
    "For creating year and month columns we convert them to datetime format using datetime library."
   ]
  },
  {
   "cell_type": "code",
   "execution_count": 37,
   "metadata": {
    "scrolled": true
   },
   "outputs": [
    {
     "data": {
      "text/plain": [
       "'Tue Apr 02 14:16:03 +0000 2013'"
      ]
     },
     "execution_count": 37,
     "metadata": {},
     "output_type": "execute_result"
    }
   ],
   "source": [
    "tweets_data['created_at'][3] # date format"
   ]
  },
  {
   "cell_type": "code",
   "execution_count": 38,
   "metadata": {},
   "outputs": [
    {
     "data": {
      "text/html": [
       "<div>\n",
       "<style scoped>\n",
       "    .dataframe tbody tr th:only-of-type {\n",
       "        vertical-align: middle;\n",
       "    }\n",
       "\n",
       "    .dataframe tbody tr th {\n",
       "        vertical-align: top;\n",
       "    }\n",
       "\n",
       "    .dataframe thead th {\n",
       "        text-align: right;\n",
       "    }\n",
       "</style>\n",
       "<table border=\"1\" class=\"dataframe\">\n",
       "  <thead>\n",
       "    <tr style=\"text-align: right;\">\n",
       "      <th></th>\n",
       "      <th>user_id</th>\n",
       "      <th>tweet_id</th>\n",
       "      <th>created_at</th>\n",
       "    </tr>\n",
       "  </thead>\n",
       "  <tbody>\n",
       "    <tr>\n",
       "      <th>0</th>\n",
       "      <td>1322535270</td>\n",
       "      <td>396000000000000000</td>\n",
       "      <td>Fri Nov 01 11:15:10 +0000 2013</td>\n",
       "    </tr>\n",
       "    <tr>\n",
       "      <th>1</th>\n",
       "      <td>1322535270</td>\n",
       "      <td>396000000000000000</td>\n",
       "      <td>Thu Oct 31 14:14:58 +0000 2013</td>\n",
       "    </tr>\n",
       "    <tr>\n",
       "      <th>2</th>\n",
       "      <td>1322535270</td>\n",
       "      <td>396000000000000000</td>\n",
       "      <td>Thu Oct 31 14:49:38 +0000 2013</td>\n",
       "    </tr>\n",
       "    <tr>\n",
       "      <th>3</th>\n",
       "      <td>1322535270</td>\n",
       "      <td>319000000000000000</td>\n",
       "      <td>Tue Apr 02 14:16:03 +0000 2013</td>\n",
       "    </tr>\n",
       "    <tr>\n",
       "      <th>4</th>\n",
       "      <td>701561502</td>\n",
       "      <td>226000000000000000</td>\n",
       "      <td>Wed Jul 18 21:04:24 +0000 2012</td>\n",
       "    </tr>\n",
       "    <tr>\n",
       "      <th>...</th>\n",
       "      <td>...</td>\n",
       "      <td>...</td>\n",
       "      <td>...</td>\n",
       "    </tr>\n",
       "    <tr>\n",
       "      <th>35255</th>\n",
       "      <td>163570705</td>\n",
       "      <td>1270000000000000000</td>\n",
       "      <td>Mon Jun 01 18:26:06 +0000 2020</td>\n",
       "    </tr>\n",
       "    <tr>\n",
       "      <th>35256</th>\n",
       "      <td>163570705</td>\n",
       "      <td>1270000000000000000</td>\n",
       "      <td>Sun Jun 21 16:42:18 +0000 2020</td>\n",
       "    </tr>\n",
       "    <tr>\n",
       "      <th>35257</th>\n",
       "      <td>163570705</td>\n",
       "      <td>1270000000000000000</td>\n",
       "      <td>Fri May 29 20:20:42 +0000 2020</td>\n",
       "    </tr>\n",
       "    <tr>\n",
       "      <th>35258</th>\n",
       "      <td>163570705</td>\n",
       "      <td>1270000000000000000</td>\n",
       "      <td>Thu Jun 04 19:29:47 +0000 2020</td>\n",
       "    </tr>\n",
       "    <tr>\n",
       "      <th>35259</th>\n",
       "      <td>163570705</td>\n",
       "      <td>1270000000000000000</td>\n",
       "      <td>Thu Jun 18 14:48:03 +0000 2020</td>\n",
       "    </tr>\n",
       "  </tbody>\n",
       "</table>\n",
       "<p>35260 rows × 3 columns</p>\n",
       "</div>"
      ],
      "text/plain": [
       "          user_id             tweet_id                      created_at\n",
       "0      1322535270   396000000000000000  Fri Nov 01 11:15:10 +0000 2013\n",
       "1      1322535270   396000000000000000  Thu Oct 31 14:14:58 +0000 2013\n",
       "2      1322535270   396000000000000000  Thu Oct 31 14:49:38 +0000 2013\n",
       "3      1322535270   319000000000000000  Tue Apr 02 14:16:03 +0000 2013\n",
       "4       701561502   226000000000000000  Wed Jul 18 21:04:24 +0000 2012\n",
       "...           ...                  ...                             ...\n",
       "35255   163570705  1270000000000000000  Mon Jun 01 18:26:06 +0000 2020\n",
       "35256   163570705  1270000000000000000  Sun Jun 21 16:42:18 +0000 2020\n",
       "35257   163570705  1270000000000000000  Fri May 29 20:20:42 +0000 2020\n",
       "35258   163570705  1270000000000000000  Thu Jun 04 19:29:47 +0000 2020\n",
       "35259   163570705  1270000000000000000  Thu Jun 18 14:48:03 +0000 2020\n",
       "\n",
       "[35260 rows x 3 columns]"
      ]
     },
     "execution_count": 38,
     "metadata": {},
     "output_type": "execute_result"
    }
   ],
   "source": [
    "tweets_monthly_summary = tweets_data    \n",
    "tweets_monthly_summary[['user_id','tweet_id','created_at']]"
   ]
  },
  {
   "cell_type": "markdown",
   "metadata": {},
   "source": [
    "Use datetime library to convert format:<br>\n"
   ]
  },
  {
   "cell_type": "code",
   "execution_count": 39,
   "metadata": {},
   "outputs": [
    {
     "data": {
      "text/html": [
       "<div>\n",
       "<style scoped>\n",
       "    .dataframe tbody tr th:only-of-type {\n",
       "        vertical-align: middle;\n",
       "    }\n",
       "\n",
       "    .dataframe tbody tr th {\n",
       "        vertical-align: top;\n",
       "    }\n",
       "\n",
       "    .dataframe thead th {\n",
       "        text-align: right;\n",
       "    }\n",
       "</style>\n",
       "<table border=\"1\" class=\"dataframe\">\n",
       "  <thead>\n",
       "    <tr style=\"text-align: right;\">\n",
       "      <th></th>\n",
       "      <th>user_id</th>\n",
       "      <th>tweet_id</th>\n",
       "      <th>created_at</th>\n",
       "    </tr>\n",
       "  </thead>\n",
       "  <tbody>\n",
       "    <tr>\n",
       "      <th>0</th>\n",
       "      <td>1322535270</td>\n",
       "      <td>396000000000000000</td>\n",
       "      <td>2013-11-01 11:15:10+00:00</td>\n",
       "    </tr>\n",
       "    <tr>\n",
       "      <th>1</th>\n",
       "      <td>1322535270</td>\n",
       "      <td>396000000000000000</td>\n",
       "      <td>2013-10-31 14:14:58+00:00</td>\n",
       "    </tr>\n",
       "    <tr>\n",
       "      <th>2</th>\n",
       "      <td>1322535270</td>\n",
       "      <td>396000000000000000</td>\n",
       "      <td>2013-10-31 14:49:38+00:00</td>\n",
       "    </tr>\n",
       "    <tr>\n",
       "      <th>3</th>\n",
       "      <td>1322535270</td>\n",
       "      <td>319000000000000000</td>\n",
       "      <td>2013-04-02 14:16:03+00:00</td>\n",
       "    </tr>\n",
       "    <tr>\n",
       "      <th>4</th>\n",
       "      <td>701561502</td>\n",
       "      <td>226000000000000000</td>\n",
       "      <td>2012-07-18 21:04:24+00:00</td>\n",
       "    </tr>\n",
       "    <tr>\n",
       "      <th>...</th>\n",
       "      <td>...</td>\n",
       "      <td>...</td>\n",
       "      <td>...</td>\n",
       "    </tr>\n",
       "    <tr>\n",
       "      <th>35255</th>\n",
       "      <td>163570705</td>\n",
       "      <td>1270000000000000000</td>\n",
       "      <td>2020-06-01 18:26:06+00:00</td>\n",
       "    </tr>\n",
       "    <tr>\n",
       "      <th>35256</th>\n",
       "      <td>163570705</td>\n",
       "      <td>1270000000000000000</td>\n",
       "      <td>2020-06-21 16:42:18+00:00</td>\n",
       "    </tr>\n",
       "    <tr>\n",
       "      <th>35257</th>\n",
       "      <td>163570705</td>\n",
       "      <td>1270000000000000000</td>\n",
       "      <td>2020-05-29 20:20:42+00:00</td>\n",
       "    </tr>\n",
       "    <tr>\n",
       "      <th>35258</th>\n",
       "      <td>163570705</td>\n",
       "      <td>1270000000000000000</td>\n",
       "      <td>2020-06-04 19:29:47+00:00</td>\n",
       "    </tr>\n",
       "    <tr>\n",
       "      <th>35259</th>\n",
       "      <td>163570705</td>\n",
       "      <td>1270000000000000000</td>\n",
       "      <td>2020-06-18 14:48:03+00:00</td>\n",
       "    </tr>\n",
       "  </tbody>\n",
       "</table>\n",
       "<p>35260 rows × 3 columns</p>\n",
       "</div>"
      ],
      "text/plain": [
       "          user_id             tweet_id                created_at\n",
       "0      1322535270   396000000000000000 2013-11-01 11:15:10+00:00\n",
       "1      1322535270   396000000000000000 2013-10-31 14:14:58+00:00\n",
       "2      1322535270   396000000000000000 2013-10-31 14:49:38+00:00\n",
       "3      1322535270   319000000000000000 2013-04-02 14:16:03+00:00\n",
       "4       701561502   226000000000000000 2012-07-18 21:04:24+00:00\n",
       "...           ...                  ...                       ...\n",
       "35255   163570705  1270000000000000000 2020-06-01 18:26:06+00:00\n",
       "35256   163570705  1270000000000000000 2020-06-21 16:42:18+00:00\n",
       "35257   163570705  1270000000000000000 2020-05-29 20:20:42+00:00\n",
       "35258   163570705  1270000000000000000 2020-06-04 19:29:47+00:00\n",
       "35259   163570705  1270000000000000000 2020-06-18 14:48:03+00:00\n",
       "\n",
       "[35260 rows x 3 columns]"
      ]
     },
     "execution_count": 39,
     "metadata": {},
     "output_type": "execute_result"
    }
   ],
   "source": [
    "def format_date(date_to_format):\n",
    "     pd.to_datetime(date_to_format, format = '%a %b %d %H:%M:%S %z %Y')\n",
    "    \n",
    "new_created_at = tweets_monthly_summary.apply(lambda x: pd.to_datetime(x['created_at'], format = '%a %b %d %H:%M:%S %z %Y') ,axis=1)\n",
    "tweets_monthly_summary = tweets_monthly_summary.assign(created_at=new_created_at) #replace 'created_at' column with our new formatted column\n",
    "tweets_monthly_summary[['user_id','tweet_id','created_at']]"
   ]
  },
  {
   "cell_type": "markdown",
   "metadata": {},
   "source": [
    "Year and month columns:"
   ]
  },
  {
   "cell_type": "code",
   "execution_count": 40,
   "metadata": {},
   "outputs": [],
   "source": [
    "tweets_monthly_summary['year'] = pd.DatetimeIndex(tweets_monthly_summary['created_at']).year\n",
    "tweets_monthly_summary['month'] = pd.DatetimeIndex(tweets_monthly_summary['created_at']).month"
   ]
  },
  {
   "cell_type": "code",
   "execution_count": 41,
   "metadata": {},
   "outputs": [
    {
     "data": {
      "text/html": [
       "<div>\n",
       "<style scoped>\n",
       "    .dataframe tbody tr th:only-of-type {\n",
       "        vertical-align: middle;\n",
       "    }\n",
       "\n",
       "    .dataframe tbody tr th {\n",
       "        vertical-align: top;\n",
       "    }\n",
       "\n",
       "    .dataframe thead th {\n",
       "        text-align: right;\n",
       "    }\n",
       "</style>\n",
       "<table border=\"1\" class=\"dataframe\">\n",
       "  <thead>\n",
       "    <tr style=\"text-align: right;\">\n",
       "      <th></th>\n",
       "      <th>user_id</th>\n",
       "      <th>tweet_id</th>\n",
       "      <th>text</th>\n",
       "      <th>created_at</th>\n",
       "      <th>entities</th>\n",
       "      <th>hashtags</th>\n",
       "      <th>source</th>\n",
       "      <th>geo</th>\n",
       "      <th>is_quote_status</th>\n",
       "      <th>retweet_count</th>\n",
       "      <th>lang</th>\n",
       "      <th>hashtag_count</th>\n",
       "      <th>shared_geo_location</th>\n",
       "      <th>device</th>\n",
       "      <th>word_count</th>\n",
       "      <th>year</th>\n",
       "      <th>month</th>\n",
       "    </tr>\n",
       "  </thead>\n",
       "  <tbody>\n",
       "    <tr>\n",
       "      <th>0</th>\n",
       "      <td>1322535270</td>\n",
       "      <td>396000000000000000</td>\n",
       "      <td>RT @Desyfitrhiani: @AndhyNautika follback.</td>\n",
       "      <td>2013-11-01 11:15:10+00:00</td>\n",
       "      <td>{\"hashtags\": [], \"symbols\": [], \"user_mentions...</td>\n",
       "      <td>[]</td>\n",
       "      <td>&lt;a href=\"http://blackberry.com/twitter\" rel=\"n...</td>\n",
       "      <td>NaN</td>\n",
       "      <td>False</td>\n",
       "      <td>1.0</td>\n",
       "      <td>en</td>\n",
       "      <td>0</td>\n",
       "      <td>0</td>\n",
       "      <td>Mobile</td>\n",
       "      <td>4</td>\n",
       "      <td>2013</td>\n",
       "      <td>11</td>\n",
       "    </tr>\n",
       "    <tr>\n",
       "      <th>1</th>\n",
       "      <td>1322535270</td>\n",
       "      <td>396000000000000000</td>\n",
       "      <td>RT @agooez_48: I don't know,who you are.</td>\n",
       "      <td>2013-10-31 14:14:58+00:00</td>\n",
       "      <td>{\"hashtags\": [], \"symbols\": [], \"user_mentions...</td>\n",
       "      <td>[]</td>\n",
       "      <td>&lt;a href=\"http://blackberry.com/twitter\" rel=\"n...</td>\n",
       "      <td>NaN</td>\n",
       "      <td>False</td>\n",
       "      <td>1.0</td>\n",
       "      <td>en</td>\n",
       "      <td>0</td>\n",
       "      <td>0</td>\n",
       "      <td>Mobile</td>\n",
       "      <td>7</td>\n",
       "      <td>2013</td>\n",
       "      <td>10</td>\n",
       "    </tr>\n",
       "    <tr>\n",
       "      <th>2</th>\n",
       "      <td>1322535270</td>\n",
       "      <td>396000000000000000</td>\n",
       "      <td>RT @indha: love u so much......Arie......</td>\n",
       "      <td>2013-10-31 14:49:38+00:00</td>\n",
       "      <td>{\"hashtags\": [], \"symbols\": [], \"user_mentions...</td>\n",
       "      <td>[]</td>\n",
       "      <td>&lt;a href=\"http://blackberry.com/twitter\" rel=\"n...</td>\n",
       "      <td>NaN</td>\n",
       "      <td>False</td>\n",
       "      <td>6.0</td>\n",
       "      <td>en</td>\n",
       "      <td>0</td>\n",
       "      <td>0</td>\n",
       "      <td>Mobile</td>\n",
       "      <td>6</td>\n",
       "      <td>2013</td>\n",
       "      <td>10</td>\n",
       "    </tr>\n",
       "    <tr>\n",
       "      <th>3</th>\n",
       "      <td>1322535270</td>\n",
       "      <td>319000000000000000</td>\n",
       "      <td>@agooez_48 foollback</td>\n",
       "      <td>2013-04-02 14:16:03+00:00</td>\n",
       "      <td>{\"hashtags\": [], \"symbols\": [], \"user_mentions...</td>\n",
       "      <td>[]</td>\n",
       "      <td>&lt;a href=\"https://mobile.twitter.com\" rel=\"nofo...</td>\n",
       "      <td>NaN</td>\n",
       "      <td>False</td>\n",
       "      <td>0.0</td>\n",
       "      <td>en</td>\n",
       "      <td>0</td>\n",
       "      <td>0</td>\n",
       "      <td>Mobile</td>\n",
       "      <td>2</td>\n",
       "      <td>2013</td>\n",
       "      <td>4</td>\n",
       "    </tr>\n",
       "    <tr>\n",
       "      <th>4</th>\n",
       "      <td>701561502</td>\n",
       "      <td>226000000000000000</td>\n",
       "      <td>I don't even know how too use this ..\\n smh -_-</td>\n",
       "      <td>2012-07-18 21:04:24+00:00</td>\n",
       "      <td>{\"hashtags\": [], \"symbols\": [], \"user_mentions...</td>\n",
       "      <td>[]</td>\n",
       "      <td>&lt;a href=\"http://twitter.com\" rel=\"nofollow\"&gt;Tw...</td>\n",
       "      <td>NaN</td>\n",
       "      <td>False</td>\n",
       "      <td>0.0</td>\n",
       "      <td>en</td>\n",
       "      <td>0</td>\n",
       "      <td>0</td>\n",
       "      <td>PC</td>\n",
       "      <td>11</td>\n",
       "      <td>2012</td>\n",
       "      <td>7</td>\n",
       "    </tr>\n",
       "  </tbody>\n",
       "</table>\n",
       "</div>"
      ],
      "text/plain": [
       "      user_id            tweet_id  \\\n",
       "0  1322535270  396000000000000000   \n",
       "1  1322535270  396000000000000000   \n",
       "2  1322535270  396000000000000000   \n",
       "3  1322535270  319000000000000000   \n",
       "4   701561502  226000000000000000   \n",
       "\n",
       "                                              text                created_at  \\\n",
       "0       RT @Desyfitrhiani: @AndhyNautika follback. 2013-11-01 11:15:10+00:00   \n",
       "1         RT @agooez_48: I don't know,who you are. 2013-10-31 14:14:58+00:00   \n",
       "2        RT @indha: love u so much......Arie...... 2013-10-31 14:49:38+00:00   \n",
       "3                             @agooez_48 foollback 2013-04-02 14:16:03+00:00   \n",
       "4  I don't even know how too use this ..\\n smh -_- 2012-07-18 21:04:24+00:00   \n",
       "\n",
       "                                            entities hashtags  \\\n",
       "0  {\"hashtags\": [], \"symbols\": [], \"user_mentions...       []   \n",
       "1  {\"hashtags\": [], \"symbols\": [], \"user_mentions...       []   \n",
       "2  {\"hashtags\": [], \"symbols\": [], \"user_mentions...       []   \n",
       "3  {\"hashtags\": [], \"symbols\": [], \"user_mentions...       []   \n",
       "4  {\"hashtags\": [], \"symbols\": [], \"user_mentions...       []   \n",
       "\n",
       "                                              source  geo  is_quote_status  \\\n",
       "0  <a href=\"http://blackberry.com/twitter\" rel=\"n...  NaN            False   \n",
       "1  <a href=\"http://blackberry.com/twitter\" rel=\"n...  NaN            False   \n",
       "2  <a href=\"http://blackberry.com/twitter\" rel=\"n...  NaN            False   \n",
       "3  <a href=\"https://mobile.twitter.com\" rel=\"nofo...  NaN            False   \n",
       "4  <a href=\"http://twitter.com\" rel=\"nofollow\">Tw...  NaN            False   \n",
       "\n",
       "   retweet_count lang  hashtag_count  shared_geo_location  device  word_count  \\\n",
       "0            1.0   en              0                    0  Mobile           4   \n",
       "1            1.0   en              0                    0  Mobile           7   \n",
       "2            6.0   en              0                    0  Mobile           6   \n",
       "3            0.0   en              0                    0  Mobile           2   \n",
       "4            0.0   en              0                    0      PC          11   \n",
       "\n",
       "   year  month  \n",
       "0  2013     11  \n",
       "1  2013     10  \n",
       "2  2013     10  \n",
       "3  2013      4  \n",
       "4  2012      7  "
      ]
     },
     "execution_count": 41,
     "metadata": {},
     "output_type": "execute_result"
    }
   ],
   "source": [
    "tweets_monthly_summary.head()"
   ]
  },
  {
   "cell_type": "markdown",
   "metadata": {},
   "source": [
    "New column 'is_mobile': 1 for Mobile and 0 for Pc."
   ]
  },
  {
   "cell_type": "code",
   "execution_count": 42,
   "metadata": {},
   "outputs": [],
   "source": [
    "tweets_monthly_summary['is_mobile'] = tweets_monthly_summary['device'].apply(lambda x: 1 if x == 'Mobile' else 0)"
   ]
  },
  {
   "cell_type": "markdown",
   "metadata": {},
   "source": [
    "Here, in order to get monthly data, we grouped by id, year and month as follows:"
   ]
  },
  {
   "cell_type": "code",
   "execution_count": 43,
   "metadata": {},
   "outputs": [],
   "source": [
    "grouped = tweets_monthly_summary.groupby(['user_id','year','month'])\n",
    "#groupby object"
   ]
  },
  {
   "cell_type": "markdown",
   "metadata": {},
   "source": [
    "Applying **agg** to the groupby object. The function gets: <br>1. column name <br>2. function to be executed. "
   ]
  },
  {
   "cell_type": "markdown",
   "metadata": {},
   "source": [
    "**Tweet_count**, **Hashtag_count**, **Retweet_count**, **Location_sharing_count**, **Quote_count** (given by aggregation on GroupBy Object):"
   ]
  },
  {
   "cell_type": "code",
   "execution_count": 44,
   "metadata": {},
   "outputs": [],
   "source": [
    "Grpd = grouped.agg({'tweet_id': 'count','hashtag_count':sum,'is_mobile':sum,'retweet_count':sum, 'shared_geo_location':sum, 'is_quote_status':sum})"
   ]
  },
  {
   "cell_type": "markdown",
   "metadata": {},
   "source": [
    "**Percent_mobile**:"
   ]
  },
  {
   "cell_type": "code",
   "execution_count": 45,
   "metadata": {},
   "outputs": [],
   "source": [
    "Grpd['Percent_mobile'] = Grpd['is_mobile']/Grpd['tweet_id'] "
   ]
  },
  {
   "cell_type": "markdown",
   "metadata": {},
   "source": [
    "Before the last part (Percent_tweets) - reset_index for keeping year and month columns. <br>\n",
    "After that, merge (inner) with statuses_count for calculating **Percent_tweets**:"
   ]
  },
  {
   "cell_type": "code",
   "execution_count": 46,
   "metadata": {},
   "outputs": [],
   "source": [
    "Grpd = Grpd.reset_index()\n",
    "\n",
    "Grpd = Grpd.merge(users_data[['user_id','statuses_count']], on='user_id', how='inner')\n",
    "Grpd['Percent_tweets'] = Grpd['tweet_id']/Grpd['statuses_count']"
   ]
  },
  {
   "cell_type": "code",
   "execution_count": 47,
   "metadata": {},
   "outputs": [
    {
     "data": {
      "text/html": [
       "<div>\n",
       "<style scoped>\n",
       "    .dataframe tbody tr th:only-of-type {\n",
       "        vertical-align: middle;\n",
       "    }\n",
       "\n",
       "    .dataframe tbody tr th {\n",
       "        vertical-align: top;\n",
       "    }\n",
       "\n",
       "    .dataframe thead th {\n",
       "        text-align: right;\n",
       "    }\n",
       "</style>\n",
       "<table border=\"1\" class=\"dataframe\">\n",
       "  <thead>\n",
       "    <tr style=\"text-align: right;\">\n",
       "      <th></th>\n",
       "      <th></th>\n",
       "      <th></th>\n",
       "      <th>Tweet_count</th>\n",
       "      <th>Hashtag_count</th>\n",
       "      <th>Percent_mobile</th>\n",
       "      <th>Retweet_count</th>\n",
       "      <th>Location_sharing_count</th>\n",
       "      <th>Quote_count</th>\n",
       "      <th>Percent_tweets</th>\n",
       "    </tr>\n",
       "    <tr>\n",
       "      <th>User_id</th>\n",
       "      <th>Year</th>\n",
       "      <th>Month</th>\n",
       "      <th></th>\n",
       "      <th></th>\n",
       "      <th></th>\n",
       "      <th></th>\n",
       "      <th></th>\n",
       "      <th></th>\n",
       "      <th></th>\n",
       "    </tr>\n",
       "  </thead>\n",
       "  <tbody>\n",
       "    <tr>\n",
       "      <th rowspan=\"4\" valign=\"top\">13679</th>\n",
       "      <th rowspan=\"4\" valign=\"top\">2020</th>\n",
       "      <th>8</th>\n",
       "      <td>34</td>\n",
       "      <td>0</td>\n",
       "      <td>1.000000</td>\n",
       "      <td>4066.0</td>\n",
       "      <td>0</td>\n",
       "      <td>4</td>\n",
       "      <td>0.006661</td>\n",
       "    </tr>\n",
       "    <tr>\n",
       "      <th>9</th>\n",
       "      <td>42</td>\n",
       "      <td>4</td>\n",
       "      <td>1.000000</td>\n",
       "      <td>801.0</td>\n",
       "      <td>0</td>\n",
       "      <td>14</td>\n",
       "      <td>0.008229</td>\n",
       "    </tr>\n",
       "    <tr>\n",
       "      <th>10</th>\n",
       "      <td>55</td>\n",
       "      <td>2</td>\n",
       "      <td>1.000000</td>\n",
       "      <td>2057.0</td>\n",
       "      <td>0</td>\n",
       "      <td>15</td>\n",
       "      <td>0.010776</td>\n",
       "    </tr>\n",
       "    <tr>\n",
       "      <th>11</th>\n",
       "      <td>43</td>\n",
       "      <td>1</td>\n",
       "      <td>1.000000</td>\n",
       "      <td>1560.0</td>\n",
       "      <td>0</td>\n",
       "      <td>9</td>\n",
       "      <td>0.008425</td>\n",
       "    </tr>\n",
       "    <tr>\n",
       "      <th>1599171</th>\n",
       "      <th>2020</th>\n",
       "      <th>12</th>\n",
       "      <td>177</td>\n",
       "      <td>10</td>\n",
       "      <td>1.000000</td>\n",
       "      <td>258718.0</td>\n",
       "      <td>0</td>\n",
       "      <td>38</td>\n",
       "      <td>0.003716</td>\n",
       "    </tr>\n",
       "    <tr>\n",
       "      <th>...</th>\n",
       "      <th>...</th>\n",
       "      <th>...</th>\n",
       "      <td>...</td>\n",
       "      <td>...</td>\n",
       "      <td>...</td>\n",
       "      <td>...</td>\n",
       "      <td>...</td>\n",
       "      <td>...</td>\n",
       "      <td>...</td>\n",
       "    </tr>\n",
       "    <tr>\n",
       "      <th rowspan=\"5\" valign=\"top\">4924419310</th>\n",
       "      <th rowspan=\"3\" valign=\"top\">2018</th>\n",
       "      <th>10</th>\n",
       "      <td>1</td>\n",
       "      <td>0</td>\n",
       "      <td>0.000000</td>\n",
       "      <td>26.0</td>\n",
       "      <td>0</td>\n",
       "      <td>0</td>\n",
       "      <td>0.001058</td>\n",
       "    </tr>\n",
       "    <tr>\n",
       "      <th>11</th>\n",
       "      <td>23</td>\n",
       "      <td>7</td>\n",
       "      <td>0.217391</td>\n",
       "      <td>670.0</td>\n",
       "      <td>0</td>\n",
       "      <td>5</td>\n",
       "      <td>0.024339</td>\n",
       "    </tr>\n",
       "    <tr>\n",
       "      <th>12</th>\n",
       "      <td>22</td>\n",
       "      <td>8</td>\n",
       "      <td>0.409091</td>\n",
       "      <td>2279.0</td>\n",
       "      <td>0</td>\n",
       "      <td>4</td>\n",
       "      <td>0.023280</td>\n",
       "    </tr>\n",
       "    <tr>\n",
       "      <th rowspan=\"2\" valign=\"top\">2019</th>\n",
       "      <th>1</th>\n",
       "      <td>28</td>\n",
       "      <td>14</td>\n",
       "      <td>0.500000</td>\n",
       "      <td>3370.0</td>\n",
       "      <td>0</td>\n",
       "      <td>6</td>\n",
       "      <td>0.029630</td>\n",
       "    </tr>\n",
       "    <tr>\n",
       "      <th>2</th>\n",
       "      <td>25</td>\n",
       "      <td>17</td>\n",
       "      <td>0.400000</td>\n",
       "      <td>849.0</td>\n",
       "      <td>0</td>\n",
       "      <td>4</td>\n",
       "      <td>0.026455</td>\n",
       "    </tr>\n",
       "  </tbody>\n",
       "</table>\n",
       "<p>2446 rows × 7 columns</p>\n",
       "</div>"
      ],
      "text/plain": [
       "                       Tweet_count  Hashtag_count  Percent_mobile  \\\n",
       "User_id    Year Month                                               \n",
       "13679      2020 8               34              0        1.000000   \n",
       "                9               42              4        1.000000   \n",
       "                10              55              2        1.000000   \n",
       "                11              43              1        1.000000   \n",
       "1599171    2020 12             177             10        1.000000   \n",
       "...                            ...            ...             ...   \n",
       "4924419310 2018 10               1              0        0.000000   \n",
       "                11              23              7        0.217391   \n",
       "                12              22              8        0.409091   \n",
       "           2019 1               28             14        0.500000   \n",
       "                2               25             17        0.400000   \n",
       "\n",
       "                       Retweet_count  Location_sharing_count  Quote_count  \\\n",
       "User_id    Year Month                                                       \n",
       "13679      2020 8             4066.0                       0            4   \n",
       "                9              801.0                       0           14   \n",
       "                10            2057.0                       0           15   \n",
       "                11            1560.0                       0            9   \n",
       "1599171    2020 12          258718.0                       0           38   \n",
       "...                              ...                     ...          ...   \n",
       "4924419310 2018 10              26.0                       0            0   \n",
       "                11             670.0                       0            5   \n",
       "                12            2279.0                       0            4   \n",
       "           2019 1             3370.0                       0            6   \n",
       "                2              849.0                       0            4   \n",
       "\n",
       "                       Percent_tweets  \n",
       "User_id    Year Month                  \n",
       "13679      2020 8            0.006661  \n",
       "                9            0.008229  \n",
       "                10           0.010776  \n",
       "                11           0.008425  \n",
       "1599171    2020 12           0.003716  \n",
       "...                               ...  \n",
       "4924419310 2018 10           0.001058  \n",
       "                11           0.024339  \n",
       "                12           0.023280  \n",
       "           2019 1            0.029630  \n",
       "                2            0.026455  \n",
       "\n",
       "[2446 rows x 7 columns]"
      ]
     },
     "execution_count": 47,
     "metadata": {},
     "output_type": "execute_result"
    }
   ],
   "source": [
    "rename_as_required = Grpd.rename({'user_id':'User_id','year':'Year','month':'Month','tweet_id':'Tweet_count', 'hashtag_count': 'Hashtag_count','retweet_count':'Retweet_count','shared_geo_location':'Location_sharing_count', 'is_quote_status':'Quote_count'}, axis='columns')\n",
    "\n",
    "tweets_monthly_summary = rename_as_required[['User_id','Year','Month','Tweet_count','Hashtag_count','Percent_mobile','Retweet_count','Location_sharing_count','Quote_count','Percent_tweets']]\n",
    "tweets_monthly_summary.set_index(['User_id','Year','Month'])"
   ]
  },
  {
   "cell_type": "markdown",
   "metadata": {},
   "source": [
    "## Data Visualization"
   ]
  },
  {
   "cell_type": "markdown",
   "metadata": {},
   "source": [
    "### Question 4"
   ]
  },
  {
   "cell_type": "code",
   "execution_count": 48,
   "metadata": {},
   "outputs": [
    {
     "data": {
      "text/plain": [
       "0        4\n",
       "1        1\n",
       "2      196\n",
       "3        7\n",
       "4        4\n",
       "      ... \n",
       "536    189\n",
       "537     42\n",
       "538      5\n",
       "539      7\n",
       "540    182\n",
       "Name: Collected_tweets, Length: 541, dtype: int64"
      ]
     },
     "execution_count": 48,
     "metadata": {},
     "output_type": "execute_result"
    }
   ],
   "source": [
    "users_data['Collected_tweets']"
   ]
  },
  {
   "cell_type": "markdown",
   "metadata": {},
   "source": [
    "Histogram that shows the amount of users for each number of **collected tweets**:"
   ]
  },
  {
   "cell_type": "code",
   "execution_count": 49,
   "metadata": {},
   "outputs": [
    {
     "data": {
      "text/plain": [
       "Text(0.5, 1.0, 'Users for number of Tweets')"
      ]
     },
     "execution_count": 49,
     "metadata": {},
     "output_type": "execute_result"
    },
    {
     "data": {
      "image/png": "[encoded data removed]",
      "text/plain": [
       "<Figure size 432x288 with 1 Axes>"
      ]
     },
     "metadata": {
      "needs_background": "light"
     },
     "output_type": "display_data"
    }
   ],
   "source": [
    "users_data['Collected_tweets'].hist(bins=20,alpha=0.7)\n",
    "plt.xlabel('Number of Collected tweets')\n",
    "plt.ylabel(\"Amount of Users\")\n",
    "plt.title('Users for number of Tweets')"
   ]
  },
  {
   "cell_type": "code",
   "execution_count": 50,
   "metadata": {},
   "outputs": [
    {
     "data": {
      "text/plain": [
       "302"
      ]
     },
     "execution_count": 50,
     "metadata": {},
     "output_type": "execute_result"
    }
   ],
   "source": [
    "users_data[users_data['Collected_tweets'] < 20].count()['user_id']\n"
   ]
  },
  {
   "cell_type": "markdown",
   "metadata": {},
   "source": [
    "We can see that more than half of the users don't pass 20 tweets. Lets \"Zoom in\": Divide into two groups and visualize:"
   ]
  },
  {
   "cell_type": "code",
   "execution_count": 51,
   "metadata": {},
   "outputs": [
    {
     "data": {
      "text/plain": [
       "Text(0.5, 1.0, 'Users for number of Tweets - < 35')"
      ]
     },
     "execution_count": 51,
     "metadata": {},
     "output_type": "execute_result"
    },
    {
     "data": {
      "image/png": "[encoded data removed]",
      "text/plain": [
       "<Figure size 432x288 with 1 Axes>"
      ]
     },
     "metadata": {
      "needs_background": "light"
     },
     "output_type": "display_data"
    }
   ],
   "source": [
    "Below_35 = users_data[users_data['Collected_tweets'] < 35]\n",
    "Below_35['Collected_tweets'].hist(bins=20,alpha=0.7)\n",
    "plt.xlabel('Number of Collected tweets')\n",
    "plt.ylabel(\"Amount of Users\")\n",
    "plt.title('Users for number of Tweets - < 35')"
   ]
  },
  {
   "cell_type": "code",
   "execution_count": 52,
   "metadata": {},
   "outputs": [
    {
     "data": {
      "text/plain": [
       "Text(0.5, 1.0, 'Users for number of Tweets - > 20')"
      ]
     },
     "execution_count": 52,
     "metadata": {},
     "output_type": "execute_result"
    },
    {
     "data": {
      "image/png": "[encoded data removed]",
      "text/plain": [
       "<Figure size 432x288 with 1 Axes>"
      ]
     },
     "metadata": {
      "needs_background": "light"
     },
     "output_type": "display_data"
    }
   ],
   "source": [
    "Above_20 = users_data[users_data['Collected_tweets'] > 20]\n",
    "Above_20['Collected_tweets'].hist(bins=20,alpha=0.7)\n",
    "plt.xlabel('Number of Collected tweets')\n",
    "plt.ylabel(\"Amount of Users\")\n",
    "plt.title('Users for number of Tweets - > 20')"
   ]
  },
  {
   "cell_type": "markdown",
   "metadata": {},
   "source": [
    "## Q5"
   ]
  },
  {
   "cell_type": "markdown",
   "metadata": {},
   "source": [
    "Histogram that shows the amount of users for each number of **followers**:"
   ]
  },
  {
   "cell_type": "code",
   "execution_count": 53,
   "metadata": {},
   "outputs": [
    {
     "data": {
      "text/html": [
       "<div>\n",
       "<style scoped>\n",
       "    .dataframe tbody tr th:only-of-type {\n",
       "        vertical-align: middle;\n",
       "    }\n",
       "\n",
       "    .dataframe tbody tr th {\n",
       "        vertical-align: top;\n",
       "    }\n",
       "\n",
       "    .dataframe thead th {\n",
       "        text-align: right;\n",
       "    }\n",
       "</style>\n",
       "<table border=\"1\" class=\"dataframe\">\n",
       "  <thead>\n",
       "    <tr style=\"text-align: right;\">\n",
       "      <th></th>\n",
       "      <th>user_id</th>\n",
       "      <th>name</th>\n",
       "      <th>screen_name</th>\n",
       "      <th>location</th>\n",
       "      <th>description</th>\n",
       "      <th>entities</th>\n",
       "      <th>protected</th>\n",
       "      <th>followers_count</th>\n",
       "      <th>friends_count</th>\n",
       "      <th>listed_count</th>\n",
       "      <th>favourites_count</th>\n",
       "      <th>geo_enabled</th>\n",
       "      <th>statuses_count</th>\n",
       "      <th>shared_location</th>\n",
       "      <th>shared_profile_picture</th>\n",
       "      <th>desc_words_Count</th>\n",
       "      <th>Num_words_in_desc</th>\n",
       "      <th>Is_celeb</th>\n",
       "      <th>Collected_tweets</th>\n",
       "      <th>Collected_tweets_percent</th>\n",
       "    </tr>\n",
       "  </thead>\n",
       "  <tbody>\n",
       "    <tr>\n",
       "      <th>52</th>\n",
       "      <td>351921957</td>\n",
       "      <td>Ezequiel Lavezzi</td>\n",
       "      <td>PochoLavezzi</td>\n",
       "      <td>NaN</td>\n",
       "      <td>Ezequiel 'El Pocho' Lavezzi's Official Profile...</td>\n",
       "      <td>{\"url\": {\"urls\": [{\"url\": \"http://t.co/q6n6kz5...</td>\n",
       "      <td>0</td>\n",
       "      <td>5146847</td>\n",
       "      <td>279</td>\n",
       "      <td>4904</td>\n",
       "      <td>434</td>\n",
       "      <td>0</td>\n",
       "      <td>3011</td>\n",
       "      <td>0</td>\n",
       "      <td>1</td>\n",
       "      <td>8</td>\n",
       "      <td>8</td>\n",
       "      <td>Yes</td>\n",
       "      <td>9</td>\n",
       "      <td>0.002989</td>\n",
       "    </tr>\n",
       "    <tr>\n",
       "      <th>102</th>\n",
       "      <td>501583715</td>\n",
       "      <td>SENYORA</td>\n",
       "      <td>Senyora</td>\n",
       "      <td>Philippines</td>\n",
       "      <td>Fulltime Haciendera and Professional Husgadera...</td>\n",
       "      <td>{\"description\": {\"urls\": []}}</td>\n",
       "      <td>0</td>\n",
       "      <td>5546663</td>\n",
       "      <td>83</td>\n",
       "      <td>973</td>\n",
       "      <td>7427</td>\n",
       "      <td>1</td>\n",
       "      <td>22959</td>\n",
       "      <td>1</td>\n",
       "      <td>1</td>\n",
       "      <td>8</td>\n",
       "      <td>8</td>\n",
       "      <td>Yes</td>\n",
       "      <td>25</td>\n",
       "      <td>0.001089</td>\n",
       "    </tr>\n",
       "    <tr>\n",
       "      <th>126</th>\n",
       "      <td>150832830</td>\n",
       "      <td>David Faitelson</td>\n",
       "      <td>Faitelson_ESPN</td>\n",
       "      <td>San Diego, CA</td>\n",
       "      <td>AVISO LEGAL: Si nos envÃ­as un tweet, estÃ¡s p...</td>\n",
       "      <td>{\"url\": {\"urls\": [{\"url\": \"https://t.co/C2q2SQ...</td>\n",
       "      <td>0</td>\n",
       "      <td>3586934</td>\n",
       "      <td>1149</td>\n",
       "      <td>7414</td>\n",
       "      <td>181</td>\n",
       "      <td>1</td>\n",
       "      <td>56844</td>\n",
       "      <td>1</td>\n",
       "      <td>1</td>\n",
       "      <td>24</td>\n",
       "      <td>24</td>\n",
       "      <td>Yes</td>\n",
       "      <td>9</td>\n",
       "      <td>0.000158</td>\n",
       "    </tr>\n",
       "    <tr>\n",
       "      <th>169</th>\n",
       "      <td>15872418</td>\n",
       "      <td>ABS-CBN News</td>\n",
       "      <td>ABSCBNNews</td>\n",
       "      <td>Manila, Philippines</td>\n",
       "      <td>Stories, video, and multimedia for Filipinos w...</td>\n",
       "      <td>{\"url\": {\"urls\": [{\"url\": \"https://t.co/e2NDE5...</td>\n",
       "      <td>0</td>\n",
       "      <td>6937466</td>\n",
       "      <td>1073</td>\n",
       "      <td>7370</td>\n",
       "      <td>1143</td>\n",
       "      <td>1</td>\n",
       "      <td>784302</td>\n",
       "      <td>1</td>\n",
       "      <td>1</td>\n",
       "      <td>19</td>\n",
       "      <td>19</td>\n",
       "      <td>Yes</td>\n",
       "      <td>144</td>\n",
       "      <td>0.000184</td>\n",
       "    </tr>\n",
       "    <tr>\n",
       "      <th>171</th>\n",
       "      <td>307426028</td>\n",
       "      <td>Lili Reinhart</td>\n",
       "      <td>lilireinhart</td>\n",
       "      <td>NaN</td>\n",
       "      <td>I take as many naps as I can.</td>\n",
       "      <td>{\"description\": {\"urls\": []}}</td>\n",
       "      <td>0</td>\n",
       "      <td>3126154</td>\n",
       "      <td>237</td>\n",
       "      <td>1195</td>\n",
       "      <td>3194</td>\n",
       "      <td>0</td>\n",
       "      <td>7503</td>\n",
       "      <td>0</td>\n",
       "      <td>1</td>\n",
       "      <td>8</td>\n",
       "      <td>8</td>\n",
       "      <td>Yes</td>\n",
       "      <td>184</td>\n",
       "      <td>0.024524</td>\n",
       "    </tr>\n",
       "    <tr>\n",
       "      <th>227</th>\n",
       "      <td>330826792</td>\n",
       "      <td>Rappler</td>\n",
       "      <td>rapplerdotcom</td>\n",
       "      <td>Philippines</td>\n",
       "      <td>The Social News Network. Uncompromised journal...</td>\n",
       "      <td>{\"url\": {\"urls\": [{\"url\": \"https://t.co/tz2uMg...</td>\n",
       "      <td>0</td>\n",
       "      <td>3285280</td>\n",
       "      <td>403</td>\n",
       "      <td>3875</td>\n",
       "      <td>8072</td>\n",
       "      <td>1</td>\n",
       "      <td>670296</td>\n",
       "      <td>1</td>\n",
       "      <td>1</td>\n",
       "      <td>15</td>\n",
       "      <td>15</td>\n",
       "      <td>Yes</td>\n",
       "      <td>173</td>\n",
       "      <td>0.000258</td>\n",
       "    </tr>\n",
       "    <tr>\n",
       "      <th>242</th>\n",
       "      <td>268361752</td>\n",
       "      <td>SelecciÃ³n Nacional</td>\n",
       "      <td>miseleccionmx</td>\n",
       "      <td>Mexico</td>\n",
       "      <td>SelecciÃ³n Nacional de MÃ©xico | #PasiÃ³nyOrgu...</td>\n",
       "      <td>{\"url\": {\"urls\": [{\"url\": \"https://t.co/aUjIIu...</td>\n",
       "      <td>0</td>\n",
       "      <td>6104935</td>\n",
       "      <td>1484</td>\n",
       "      <td>4626</td>\n",
       "      <td>38778</td>\n",
       "      <td>1</td>\n",
       "      <td>118147</td>\n",
       "      <td>1</td>\n",
       "      <td>1</td>\n",
       "      <td>10</td>\n",
       "      <td>10</td>\n",
       "      <td>Yes</td>\n",
       "      <td>6</td>\n",
       "      <td>0.000051</td>\n",
       "    </tr>\n",
       "    <tr>\n",
       "      <th>273</th>\n",
       "      <td>39453212</td>\n",
       "      <td>GMA News</td>\n",
       "      <td>gmanews</td>\n",
       "      <td>Philippines</td>\n",
       "      <td>Welcome to the official Twitter account of GMA...</td>\n",
       "      <td>{\"url\": {\"urls\": [{\"url\": \"http://t.co/ml34b0g...</td>\n",
       "      <td>0</td>\n",
       "      <td>5728110</td>\n",
       "      <td>705</td>\n",
       "      <td>8364</td>\n",
       "      <td>15426</td>\n",
       "      <td>0</td>\n",
       "      <td>675604</td>\n",
       "      <td>1</td>\n",
       "      <td>1</td>\n",
       "      <td>12</td>\n",
       "      <td>12</td>\n",
       "      <td>Yes</td>\n",
       "      <td>143</td>\n",
       "      <td>0.000212</td>\n",
       "    </tr>\n",
       "    <tr>\n",
       "      <th>299</th>\n",
       "      <td>913812620</td>\n",
       "      <td>Posty</td>\n",
       "      <td>PostMalone</td>\n",
       "      <td>somewhere with Jazzy Eff</td>\n",
       "      <td>HOLLYWOODâS BLEEDING IS OUT NOW</td>\n",
       "      <td>{\"url\": {\"urls\": [{\"url\": \"https://t.co/2mjO2V...</td>\n",
       "      <td>0</td>\n",
       "      <td>6421604</td>\n",
       "      <td>2897</td>\n",
       "      <td>1993</td>\n",
       "      <td>17683</td>\n",
       "      <td>1</td>\n",
       "      <td>7742</td>\n",
       "      <td>1</td>\n",
       "      <td>1</td>\n",
       "      <td>5</td>\n",
       "      <td>5</td>\n",
       "      <td>Yes</td>\n",
       "      <td>163</td>\n",
       "      <td>0.021054</td>\n",
       "    </tr>\n",
       "    <tr>\n",
       "      <th>320</th>\n",
       "      <td>1852644804</td>\n",
       "      <td>Khalid</td>\n",
       "      <td>thegreatkhalid</td>\n",
       "      <td>El Paso, Texas</td>\n",
       "      <td>22 â¢ Instagram: thegr8khalidâï¸:KhalidInf...</td>\n",
       "      <td>{\"url\": {\"urls\": [{\"url\": \"https://t.co/Jojt3F...</td>\n",
       "      <td>0</td>\n",
       "      <td>4661361</td>\n",
       "      <td>1400</td>\n",
       "      <td>1740</td>\n",
       "      <td>54370</td>\n",
       "      <td>1</td>\n",
       "      <td>58484</td>\n",
       "      <td>1</td>\n",
       "      <td>1</td>\n",
       "      <td>4</td>\n",
       "      <td>4</td>\n",
       "      <td>Yes</td>\n",
       "      <td>168</td>\n",
       "      <td>0.002873</td>\n",
       "    </tr>\n",
       "    <tr>\n",
       "      <th>328</th>\n",
       "      <td>43042353</td>\n",
       "      <td>Facts</td>\n",
       "      <td>factsionary</td>\n",
       "      <td>Worldwide</td>\n",
       "      <td>*Turn Notifications ON!* \\nDon't miss out!ð...</td>\n",
       "      <td>{\"url\": {\"urls\": [{\"url\": \"https://t.co/SlF7Ta...</td>\n",
       "      <td>0</td>\n",
       "      <td>5649515</td>\n",
       "      <td>275</td>\n",
       "      <td>6524</td>\n",
       "      <td>2605</td>\n",
       "      <td>0</td>\n",
       "      <td>33913</td>\n",
       "      <td>1</td>\n",
       "      <td>1</td>\n",
       "      <td>25</td>\n",
       "      <td>25</td>\n",
       "      <td>Yes</td>\n",
       "      <td>193</td>\n",
       "      <td>0.005691</td>\n",
       "    </tr>\n",
       "    <tr>\n",
       "      <th>335</th>\n",
       "      <td>427885919</td>\n",
       "      <td>RaÃºl JimÃ©nez</td>\n",
       "      <td>Raul_Jimenez9</td>\n",
       "      <td>NaN</td>\n",
       "      <td>Futbolista profesional en @wolvesespanol y @mi...</td>\n",
       "      <td>{\"description\": {\"urls\": []}}</td>\n",
       "      <td>0</td>\n",
       "      <td>3357872</td>\n",
       "      <td>420</td>\n",
       "      <td>1925</td>\n",
       "      <td>4027</td>\n",
       "      <td>1</td>\n",
       "      <td>4214</td>\n",
       "      <td>0</td>\n",
       "      <td>1</td>\n",
       "      <td>21</td>\n",
       "      <td>21</td>\n",
       "      <td>Yes</td>\n",
       "      <td>65</td>\n",
       "      <td>0.015425</td>\n",
       "    </tr>\n",
       "    <tr>\n",
       "      <th>430</th>\n",
       "      <td>2150327072</td>\n",
       "      <td>billie eilish</td>\n",
       "      <td>billieeilish</td>\n",
       "      <td>NaN</td>\n",
       "      <td>WHEN WE ALL FALL ASLEEP, WHERE DO WE GO? https...</td>\n",
       "      <td>{\"url\": {\"urls\": [{\"url\": \"https://t.co/oRhmwr...</td>\n",
       "      <td>0</td>\n",
       "      <td>4411957</td>\n",
       "      <td>0</td>\n",
       "      <td>2582</td>\n",
       "      <td>7606</td>\n",
       "      <td>0</td>\n",
       "      <td>463</td>\n",
       "      <td>0</td>\n",
       "      <td>1</td>\n",
       "      <td>10</td>\n",
       "      <td>10</td>\n",
       "      <td>Yes</td>\n",
       "      <td>182</td>\n",
       "      <td>0.393089</td>\n",
       "    </tr>\n",
       "    <tr>\n",
       "      <th>448</th>\n",
       "      <td>22096068</td>\n",
       "      <td>Georgina Wilson</td>\n",
       "      <td>ilovegeorgina</td>\n",
       "      <td>Manila, Philippines</td>\n",
       "      <td>NaN</td>\n",
       "      <td>{\"description\": {\"urls\": []}}</td>\n",
       "      <td>0</td>\n",
       "      <td>4181000</td>\n",
       "      <td>661</td>\n",
       "      <td>2589</td>\n",
       "      <td>53</td>\n",
       "      <td>0</td>\n",
       "      <td>18989</td>\n",
       "      <td>1</td>\n",
       "      <td>1</td>\n",
       "      <td>1</td>\n",
       "      <td>0</td>\n",
       "      <td>Yes</td>\n",
       "      <td>163</td>\n",
       "      <td>0.008584</td>\n",
       "    </tr>\n",
       "    <tr>\n",
       "      <th>455</th>\n",
       "      <td>231577324</td>\n",
       "      <td>Netflix LatinoamÃ©rica</td>\n",
       "      <td>NetflixLAT</td>\n",
       "      <td>AmÃ©rica Latina</td>\n",
       "      <td>Netflix, Nefli, Nesflis, Netflics... Soy el mi...</td>\n",
       "      <td>{\"url\": {\"urls\": [{\"url\": \"https://t.co/i4spce...</td>\n",
       "      <td>0</td>\n",
       "      <td>3467979</td>\n",
       "      <td>974</td>\n",
       "      <td>2742</td>\n",
       "      <td>13991</td>\n",
       "      <td>1</td>\n",
       "      <td>60397</td>\n",
       "      <td>1</td>\n",
       "      <td>1</td>\n",
       "      <td>7</td>\n",
       "      <td>7</td>\n",
       "      <td>Yes</td>\n",
       "      <td>8</td>\n",
       "      <td>0.000132</td>\n",
       "    </tr>\n",
       "    <tr>\n",
       "      <th>529</th>\n",
       "      <td>63701775</td>\n",
       "      <td>Maine Mendoza</td>\n",
       "      <td>mainedcm</td>\n",
       "      <td>NaN</td>\n",
       "      <td>yup, I am that girl</td>\n",
       "      <td>{\"description\": {\"urls\": []}}</td>\n",
       "      <td>0</td>\n",
       "      <td>6015330</td>\n",
       "      <td>337</td>\n",
       "      <td>1664</td>\n",
       "      <td>2184</td>\n",
       "      <td>1</td>\n",
       "      <td>39861</td>\n",
       "      <td>0</td>\n",
       "      <td>1</td>\n",
       "      <td>5</td>\n",
       "      <td>5</td>\n",
       "      <td>Yes</td>\n",
       "      <td>91</td>\n",
       "      <td>0.002283</td>\n",
       "    </tr>\n",
       "    <tr>\n",
       "      <th>530</th>\n",
       "      <td>62216533</td>\n",
       "      <td>Robi Domingo</td>\n",
       "      <td>robertmarion</td>\n",
       "      <td>Philippines</td>\n",
       "      <td>| noun | linking verb| noun/verb/adjective | -...</td>\n",
       "      <td>{\"url\": {\"urls\": [{\"url\": \"https://t.co/6YCF7D...</td>\n",
       "      <td>0</td>\n",
       "      <td>3051668</td>\n",
       "      <td>477</td>\n",
       "      <td>1789</td>\n",
       "      <td>5173</td>\n",
       "      <td>1</td>\n",
       "      <td>8128</td>\n",
       "      <td>1</td>\n",
       "      <td>1</td>\n",
       "      <td>11</td>\n",
       "      <td>11</td>\n",
       "      <td>Yes</td>\n",
       "      <td>124</td>\n",
       "      <td>0.015256</td>\n",
       "    </tr>\n",
       "  </tbody>\n",
       "</table>\n",
       "</div>"
      ],
      "text/plain": [
       "        user_id                    name     screen_name  \\\n",
       "52    351921957        Ezequiel Lavezzi    PochoLavezzi   \n",
       "102   501583715                 SENYORA         Senyora   \n",
       "126   150832830         David Faitelson  Faitelson_ESPN   \n",
       "169    15872418            ABS-CBN News      ABSCBNNews   \n",
       "171   307426028           Lili Reinhart    lilireinhart   \n",
       "227   330826792                 Rappler   rapplerdotcom   \n",
       "242   268361752     SelecciÃ³n Nacional   miseleccionmx   \n",
       "273    39453212                GMA News         gmanews   \n",
       "299   913812620                   Posty      PostMalone   \n",
       "320  1852644804                  Khalid  thegreatkhalid   \n",
       "328    43042353                   Facts     factsionary   \n",
       "335   427885919          RaÃºl JimÃ©nez   Raul_Jimenez9   \n",
       "430  2150327072           billie eilish    billieeilish   \n",
       "448    22096068         Georgina Wilson   ilovegeorgina   \n",
       "455   231577324  Netflix LatinoamÃ©rica      NetflixLAT   \n",
       "529    63701775           Maine Mendoza        mainedcm   \n",
       "530    62216533            Robi Domingo    robertmarion   \n",
       "\n",
       "                     location  \\\n",
       "52                        NaN   \n",
       "102               Philippines   \n",
       "126             San Diego, CA   \n",
       "169       Manila, Philippines   \n",
       "171                       NaN   \n",
       "227               Philippines   \n",
       "242                    Mexico   \n",
       "273               Philippines   \n",
       "299  somewhere with Jazzy Eff   \n",
       "320           El Paso, Texas    \n",
       "328                 Worldwide   \n",
       "335                       NaN   \n",
       "430                       NaN   \n",
       "448      Manila, Philippines    \n",
       "455           AmÃ©rica Latina   \n",
       "529                       NaN   \n",
       "530               Philippines   \n",
       "\n",
       "                                           description  \\\n",
       "52   Ezequiel 'El Pocho' Lavezzi's Official Profile...   \n",
       "102  Fulltime Haciendera and Professional Husgadera...   \n",
       "126  AVISO LEGAL: Si nos envÃ­as un tweet, estÃ¡s p...   \n",
       "169  Stories, video, and multimedia for Filipinos w...   \n",
       "171                      I take as many naps as I can.   \n",
       "227  The Social News Network. Uncompromised journal...   \n",
       "242  SelecciÃ³n Nacional de MÃ©xico | #PasiÃ³nyOrgu...   \n",
       "273  Welcome to the official Twitter account of GMA...   \n",
       "299                  HOLLYWOODâS BLEEDING IS OUT NOW   \n",
       "320  22 â¢ Instagram: thegr8khalidâï¸:KhalidInf...   \n",
       "328  *Turn Notifications ON!* \\nDon't miss out!ð...   \n",
       "335  Futbolista profesional en @wolvesespanol y @mi...   \n",
       "430  WHEN WE ALL FALL ASLEEP, WHERE DO WE GO? https...   \n",
       "448                                                NaN   \n",
       "455  Netflix, Nefli, Nesflis, Netflics... Soy el mi...   \n",
       "529                                yup, I am that girl   \n",
       "530  | noun | linking verb| noun/verb/adjective | -...   \n",
       "\n",
       "                                              entities  protected  \\\n",
       "52   {\"url\": {\"urls\": [{\"url\": \"http://t.co/q6n6kz5...          0   \n",
       "102                      {\"description\": {\"urls\": []}}          0   \n",
       "126  {\"url\": {\"urls\": [{\"url\": \"https://t.co/C2q2SQ...          0   \n",
       "169  {\"url\": {\"urls\": [{\"url\": \"https://t.co/e2NDE5...          0   \n",
       "171                      {\"description\": {\"urls\": []}}          0   \n",
       "227  {\"url\": {\"urls\": [{\"url\": \"https://t.co/tz2uMg...          0   \n",
       "242  {\"url\": {\"urls\": [{\"url\": \"https://t.co/aUjIIu...          0   \n",
       "273  {\"url\": {\"urls\": [{\"url\": \"http://t.co/ml34b0g...          0   \n",
       "299  {\"url\": {\"urls\": [{\"url\": \"https://t.co/2mjO2V...          0   \n",
       "320  {\"url\": {\"urls\": [{\"url\": \"https://t.co/Jojt3F...          0   \n",
       "328  {\"url\": {\"urls\": [{\"url\": \"https://t.co/SlF7Ta...          0   \n",
       "335                      {\"description\": {\"urls\": []}}          0   \n",
       "430  {\"url\": {\"urls\": [{\"url\": \"https://t.co/oRhmwr...          0   \n",
       "448                      {\"description\": {\"urls\": []}}          0   \n",
       "455  {\"url\": {\"urls\": [{\"url\": \"https://t.co/i4spce...          0   \n",
       "529                      {\"description\": {\"urls\": []}}          0   \n",
       "530  {\"url\": {\"urls\": [{\"url\": \"https://t.co/6YCF7D...          0   \n",
       "\n",
       "     followers_count  friends_count  listed_count  favourites_count  \\\n",
       "52           5146847            279          4904               434   \n",
       "102          5546663             83           973              7427   \n",
       "126          3586934           1149          7414               181   \n",
       "169          6937466           1073          7370              1143   \n",
       "171          3126154            237          1195              3194   \n",
       "227          3285280            403          3875              8072   \n",
       "242          6104935           1484          4626             38778   \n",
       "273          5728110            705          8364             15426   \n",
       "299          6421604           2897          1993             17683   \n",
       "320          4661361           1400          1740             54370   \n",
       "328          5649515            275          6524              2605   \n",
       "335          3357872            420          1925              4027   \n",
       "430          4411957              0          2582              7606   \n",
       "448          4181000            661          2589                53   \n",
       "455          3467979            974          2742             13991   \n",
       "529          6015330            337          1664              2184   \n",
       "530          3051668            477          1789              5173   \n",
       "\n",
       "     geo_enabled  statuses_count  shared_location  shared_profile_picture  \\\n",
       "52             0            3011                0                       1   \n",
       "102            1           22959                1                       1   \n",
       "126            1           56844                1                       1   \n",
       "169            1          784302                1                       1   \n",
       "171            0            7503                0                       1   \n",
       "227            1          670296                1                       1   \n",
       "242            1          118147                1                       1   \n",
       "273            0          675604                1                       1   \n",
       "299            1            7742                1                       1   \n",
       "320            1           58484                1                       1   \n",
       "328            0           33913                1                       1   \n",
       "335            1            4214                0                       1   \n",
       "430            0             463                0                       1   \n",
       "448            0           18989                1                       1   \n",
       "455            1           60397                1                       1   \n",
       "529            1           39861                0                       1   \n",
       "530            1            8128                1                       1   \n",
       "\n",
       "     desc_words_Count  Num_words_in_desc Is_celeb  Collected_tweets  \\\n",
       "52                  8                  8      Yes                 9   \n",
       "102                 8                  8      Yes                25   \n",
       "126                24                 24      Yes                 9   \n",
       "169                19                 19      Yes               144   \n",
       "171                 8                  8      Yes               184   \n",
       "227                15                 15      Yes               173   \n",
       "242                10                 10      Yes                 6   \n",
       "273                12                 12      Yes               143   \n",
       "299                 5                  5      Yes               163   \n",
       "320                 4                  4      Yes               168   \n",
       "328                25                 25      Yes               193   \n",
       "335                21                 21      Yes                65   \n",
       "430                10                 10      Yes               182   \n",
       "448                 1                  0      Yes               163   \n",
       "455                 7                  7      Yes                 8   \n",
       "529                 5                  5      Yes                91   \n",
       "530                11                 11      Yes               124   \n",
       "\n",
       "     Collected_tweets_percent  \n",
       "52                   0.002989  \n",
       "102                  0.001089  \n",
       "126                  0.000158  \n",
       "169                  0.000184  \n",
       "171                  0.024524  \n",
       "227                  0.000258  \n",
       "242                  0.000051  \n",
       "273                  0.000212  \n",
       "299                  0.021054  \n",
       "320                  0.002873  \n",
       "328                  0.005691  \n",
       "335                  0.015425  \n",
       "430                  0.393089  \n",
       "448                  0.008584  \n",
       "455                  0.000132  \n",
       "529                  0.002283  \n",
       "530                  0.015256  "
      ]
     },
     "execution_count": 53,
     "metadata": {},
     "output_type": "execute_result"
    }
   ],
   "source": [
    "users_data[users_data['followers_count'] > 3000000]\n"
   ]
  },
  {
   "cell_type": "code",
   "execution_count": 54,
   "metadata": {},
   "outputs": [
    {
     "data": {
      "text/plain": [
       "Text(0.5, 1.0, 'Users for number of Followers')"
      ]
     },
     "execution_count": 54,
     "metadata": {},
     "output_type": "execute_result"
    },
    {
     "data": {
      "image/png": "[encoded data removed]",
      "text/plain": [
       "<Figure size 432x288 with 1 Axes>"
      ]
     },
     "metadata": {
      "needs_background": "light"
     },
     "output_type": "display_data"
    }
   ],
   "source": [
    "users_data['followers_count'].hist(bins=15,alpha=0.7)\n",
    "plt.xlabel('Followers Count (in Millions)')\n",
    "plt.ylabel(\"Amount of Users\")\n",
    "plt.title('Users for number of Followers')"
   ]
  },
  {
   "cell_type": "markdown",
   "metadata": {},
   "source": [
    "The histogram above shows that most of the users are not celebs."
   ]
  },
  {
   "cell_type": "code",
   "execution_count": 55,
   "metadata": {},
   "outputs": [
    {
     "data": {
      "text/plain": [
       "270"
      ]
     },
     "execution_count": 55,
     "metadata": {},
     "output_type": "execute_result"
    }
   ],
   "source": [
    "users_data[users_data['followers_count'] < 150].count()['user_id']\n"
   ]
  },
  {
   "cell_type": "markdown",
   "metadata": {},
   "source": [
    "Half of the users have less than 150 followers! Lets zoom in."
   ]
  },
  {
   "cell_type": "code",
   "execution_count": 56,
   "metadata": {},
   "outputs": [
    {
     "data": {
      "text/plain": [
       "Text(0.5, 1.0, 'Users for number of Followers - < 150')"
      ]
     },
     "execution_count": 56,
     "metadata": {},
     "output_type": "execute_result"
    },
    {
     "data": {
      "image/png": "[encoded data removed]",
      "text/plain": [
       "<Figure size 432x288 with 1 Axes>"
      ]
     },
     "metadata": {
      "needs_background": "light"
     },
     "output_type": "display_data"
    }
   ],
   "source": [
    "Below_150 = users_data[users_data['followers_count'] < 150]\n",
    "Below_150['followers_count'].hist(bins=20,alpha=0.7)\n",
    "plt.xlabel('Followers Count')\n",
    "plt.ylabel(\"Amount of Users\")\n",
    "plt.title('Users for number of Followers - < 150')"
   ]
  },
  {
   "cell_type": "markdown",
   "metadata": {},
   "source": [
    "Zoom out: we see that most of the population (users) have below than 250,000 followers."
   ]
  },
  {
   "cell_type": "code",
   "execution_count": 57,
   "metadata": {
    "scrolled": true
   },
   "outputs": [
    {
     "data": {
      "text/plain": [
       "430"
      ]
     },
     "execution_count": 57,
     "metadata": {},
     "output_type": "execute_result"
    }
   ],
   "source": [
    "users_data[users_data['followers_count'] < 250000].count()['user_id']"
   ]
  },
  {
   "cell_type": "code",
   "execution_count": 58,
   "metadata": {},
   "outputs": [
    {
     "data": {
      "text/plain": [
       "Text(0.5, 1.0, 'Users for number of Followers - > 250000')"
      ]
     },
     "execution_count": 58,
     "metadata": {},
     "output_type": "execute_result"
    },
    {
     "data": {
      "image/png": "[encoded data removed]",
      "text/plain": [
       "<Figure size 432x288 with 1 Axes>"
      ]
     },
     "metadata": {
      "needs_background": "light"
     },
     "output_type": "display_data"
    }
   ],
   "source": [
    "Above_250000 = users_data[users_data['followers_count'] > 250000]\n",
    "Above_250000['followers_count'].hist(bins=20,alpha=0.7)\n",
    "plt.xlabel('Followers Count (in millions)')\n",
    "plt.ylabel(\"Amount of Users\")\n",
    "plt.title('Users for number of Followers - > 250000')"
   ]
  },
  {
   "cell_type": "markdown",
   "metadata": {},
   "source": [
    "## Q6"
   ]
  },
  {
   "cell_type": "markdown",
   "metadata": {},
   "source": [
    "Barchart - shows all the celebs:"
   ]
  },
  {
   "cell_type": "code",
   "execution_count": 59,
   "metadata": {},
   "outputs": [
    {
     "data": {
      "text/plain": [
       "Text(0.5, 1.0, 'Celebs number of followers - Top 10:')"
      ]
     },
     "execution_count": 59,
     "metadata": {},
     "output_type": "execute_result"
    },
    {
     "data": {
      "image/png": "[encoded data removed]",
      "text/plain": [
       "<Figure size 432x288 with 1 Axes>"
      ]
     },
     "metadata": {
      "needs_background": "light"
     },
     "output_type": "display_data"
    }
   ],
   "source": [
    "df_Q6 =users_data[['name','user_id','followers_count']]\n",
    "df_Q6 = df_Q6.sort_values(by=['followers_count'],ascending=False)[0:10] # sorting and picking top 10\n",
    "df_Q6.plot.bar(x = 'name' ,y ='followers_count' )\n",
    "plt.xlabel(\"Celebritys\")\n",
    "plt.ylabel(\"Amount of Followers in millions\")\n",
    "plt.title('Celebs number of followers - Top 10:')\n"
   ]
  },
  {
   "cell_type": "markdown",
   "metadata": {},
   "source": [
    "## Q7"
   ]
  },
  {
   "cell_type": "code",
   "execution_count": 60,
   "metadata": {},
   "outputs": [],
   "source": [
    "df_Q7 =users_data[['statuses_count','followers_count']]\n",
    "df_Q7 = df_Q7.sort_values(by=['statuses_count'],ascending=False)"
   ]
  },
  {
   "cell_type": "code",
   "execution_count": 61,
   "metadata": {},
   "outputs": [
    {
     "data": {
      "text/plain": [
       "Text(0.5, 1.0, 'Relation between Followers and Tweets:')"
      ]
     },
     "execution_count": 61,
     "metadata": {},
     "output_type": "execute_result"
    },
    {
     "data": {
      "image/png": "[encoded data removed]",
      "text/plain": [
       "<Figure size 432x288 with 1 Axes>"
      ]
     },
     "metadata": {
      "needs_background": "light"
     },
     "output_type": "display_data"
    }
   ],
   "source": [
    "df_Q7.plot(kind='scatter', x='statuses_count', y='followers_count')\n",
    "plt.xlabel(\"Total Tweets\")\n",
    "plt.ylabel(\"Followers\")\n",
    "plt.title('Relation between Followers and Tweets:')\n"
   ]
  },
  {
   "cell_type": "code",
   "execution_count": 62,
   "metadata": {},
   "outputs": [
    {
     "data": {
      "text/plain": [
       "232"
      ]
     },
     "execution_count": 62,
     "metadata": {},
     "output_type": "execute_result"
    }
   ],
   "source": [
    "df_Q7[df_Q7['statuses_count'] < 200].count()['statuses_count']"
   ]
  },
  {
   "cell_type": "code",
   "execution_count": 63,
   "metadata": {},
   "outputs": [
    {
     "data": {
      "text/plain": [
       "Text(0.5, 1.0, 'Relation between Followers and Tweets:')"
      ]
     },
     "execution_count": 63,
     "metadata": {},
     "output_type": "execute_result"
    },
    {
     "data": {
      "image/png": "[encoded data removed]",
      "text/plain": [
       "<Figure size 432x288 with 1 Axes>"
      ]
     },
     "metadata": {
      "needs_background": "light"
     },
     "output_type": "display_data"
    }
   ],
   "source": [
    "dfQ7p2 = df_Q7[df_Q7['statuses_count'] < 100000]\n",
    "dfQ7p2.plot(kind='scatter', x='statuses_count', y='followers_count')\n",
    "plt.xlabel(\"Total Tweets\")\n",
    "plt.ylabel(\"Followers\")\n",
    "plt.title('Relation between Followers and Tweets:')"
   ]
  },
  {
   "cell_type": "code",
   "execution_count": 64,
   "metadata": {
    "scrolled": true
   },
   "outputs": [
    {
     "data": {
      "text/html": [
       "<div>\n",
       "<style scoped>\n",
       "    .dataframe tbody tr th:only-of-type {\n",
       "        vertical-align: middle;\n",
       "    }\n",
       "\n",
       "    .dataframe tbody tr th {\n",
       "        vertical-align: top;\n",
       "    }\n",
       "\n",
       "    .dataframe thead th {\n",
       "        text-align: right;\n",
       "    }\n",
       "</style>\n",
       "<table border=\"1\" class=\"dataframe\">\n",
       "  <thead>\n",
       "    <tr style=\"text-align: right;\">\n",
       "      <th></th>\n",
       "      <th>name</th>\n",
       "      <th>user_id</th>\n",
       "      <th>followers_count</th>\n",
       "      <th>statuses_count</th>\n",
       "    </tr>\n",
       "  </thead>\n",
       "  <tbody>\n",
       "    <tr>\n",
       "      <th>169</th>\n",
       "      <td>ABS-CBN News</td>\n",
       "      <td>15872418</td>\n",
       "      <td>6937466</td>\n",
       "      <td>784302</td>\n",
       "    </tr>\n",
       "    <tr>\n",
       "      <th>299</th>\n",
       "      <td>Posty</td>\n",
       "      <td>913812620</td>\n",
       "      <td>6421604</td>\n",
       "      <td>7742</td>\n",
       "    </tr>\n",
       "    <tr>\n",
       "      <th>242</th>\n",
       "      <td>SelecciÃ³n Nacional</td>\n",
       "      <td>268361752</td>\n",
       "      <td>6104935</td>\n",
       "      <td>118147</td>\n",
       "    </tr>\n",
       "    <tr>\n",
       "      <th>529</th>\n",
       "      <td>Maine Mendoza</td>\n",
       "      <td>63701775</td>\n",
       "      <td>6015330</td>\n",
       "      <td>39861</td>\n",
       "    </tr>\n",
       "    <tr>\n",
       "      <th>273</th>\n",
       "      <td>GMA News</td>\n",
       "      <td>39453212</td>\n",
       "      <td>5728110</td>\n",
       "      <td>675604</td>\n",
       "    </tr>\n",
       "    <tr>\n",
       "      <th>328</th>\n",
       "      <td>Facts</td>\n",
       "      <td>43042353</td>\n",
       "      <td>5649515</td>\n",
       "      <td>33913</td>\n",
       "    </tr>\n",
       "    <tr>\n",
       "      <th>102</th>\n",
       "      <td>SENYORA</td>\n",
       "      <td>501583715</td>\n",
       "      <td>5546663</td>\n",
       "      <td>22959</td>\n",
       "    </tr>\n",
       "    <tr>\n",
       "      <th>52</th>\n",
       "      <td>Ezequiel Lavezzi</td>\n",
       "      <td>351921957</td>\n",
       "      <td>5146847</td>\n",
       "      <td>3011</td>\n",
       "    </tr>\n",
       "    <tr>\n",
       "      <th>320</th>\n",
       "      <td>Khalid</td>\n",
       "      <td>1852644804</td>\n",
       "      <td>4661361</td>\n",
       "      <td>58484</td>\n",
       "    </tr>\n",
       "    <tr>\n",
       "      <th>430</th>\n",
       "      <td>billie eilish</td>\n",
       "      <td>2150327072</td>\n",
       "      <td>4411957</td>\n",
       "      <td>463</td>\n",
       "    </tr>\n",
       "  </tbody>\n",
       "</table>\n",
       "</div>"
      ],
      "text/plain": [
       "                    name     user_id  followers_count  statuses_count\n",
       "169         ABS-CBN News    15872418          6937466          784302\n",
       "299                Posty   913812620          6421604            7742\n",
       "242  SelecciÃ³n Nacional   268361752          6104935          118147\n",
       "529        Maine Mendoza    63701775          6015330           39861\n",
       "273             GMA News    39453212          5728110          675604\n",
       "328                Facts    43042353          5649515           33913\n",
       "102              SENYORA   501583715          5546663           22959\n",
       "52      Ezequiel Lavezzi   351921957          5146847            3011\n",
       "320               Khalid  1852644804          4661361           58484\n",
       "430        billie eilish  2150327072          4411957             463"
      ]
     },
     "execution_count": 64,
     "metadata": {},
     "output_type": "execute_result"
    }
   ],
   "source": [
    "top_10 = users_data[['name','user_id','followers_count','statuses_count']]\n",
    "top_10.sort_values(by=['followers_count'],ascending=False)[0:10]"
   ]
  },
  {
   "cell_type": "code",
   "execution_count": 65,
   "metadata": {},
   "outputs": [
    {
     "data": {
      "text/html": [
       "<div>\n",
       "<style scoped>\n",
       "    .dataframe tbody tr th:only-of-type {\n",
       "        vertical-align: middle;\n",
       "    }\n",
       "\n",
       "    .dataframe tbody tr th {\n",
       "        vertical-align: top;\n",
       "    }\n",
       "\n",
       "    .dataframe thead th {\n",
       "        text-align: right;\n",
       "    }\n",
       "</style>\n",
       "<table border=\"1\" class=\"dataframe\">\n",
       "  <thead>\n",
       "    <tr style=\"text-align: right;\">\n",
       "      <th></th>\n",
       "      <th>name</th>\n",
       "      <th>user_id</th>\n",
       "      <th>followers_count</th>\n",
       "      <th>statuses_count</th>\n",
       "    </tr>\n",
       "  </thead>\n",
       "  <tbody>\n",
       "    <tr>\n",
       "      <th>49</th>\n",
       "      <td>ciko aculuduplaynow</td>\n",
       "      <td>942731472</td>\n",
       "      <td>0</td>\n",
       "      <td>4</td>\n",
       "    </tr>\n",
       "    <tr>\n",
       "      <th>162</th>\n",
       "      <td>brururu</td>\n",
       "      <td>2750073745</td>\n",
       "      <td>0</td>\n",
       "      <td>1</td>\n",
       "    </tr>\n",
       "    <tr>\n",
       "      <th>237</th>\n",
       "      <td>hildayani bustam</td>\n",
       "      <td>2229710126</td>\n",
       "      <td>1</td>\n",
       "      <td>14</td>\n",
       "    </tr>\n",
       "    <tr>\n",
       "      <th>272</th>\n",
       "      <td>Mohammad Shahanshah</td>\n",
       "      <td>2604716533</td>\n",
       "      <td>1</td>\n",
       "      <td>79</td>\n",
       "    </tr>\n",
       "    <tr>\n",
       "      <th>28</th>\n",
       "      <td>Darman Putra Bungsu</td>\n",
       "      <td>964126410</td>\n",
       "      <td>1</td>\n",
       "      <td>14</td>\n",
       "    </tr>\n",
       "    <tr>\n",
       "      <th>398</th>\n",
       "      <td>assir_09</td>\n",
       "      <td>1087855662</td>\n",
       "      <td>1</td>\n",
       "      <td>6</td>\n",
       "    </tr>\n",
       "    <tr>\n",
       "      <th>459</th>\n",
       "      <td>oddbod barber</td>\n",
       "      <td>90197913</td>\n",
       "      <td>1</td>\n",
       "      <td>2</td>\n",
       "    </tr>\n",
       "    <tr>\n",
       "      <th>269</th>\n",
       "      <td>Abayyganas</td>\n",
       "      <td>1949731154</td>\n",
       "      <td>1</td>\n",
       "      <td>14</td>\n",
       "    </tr>\n",
       "    <tr>\n",
       "      <th>512</th>\n",
       "      <td>Briana Garcia</td>\n",
       "      <td>923790313</td>\n",
       "      <td>2</td>\n",
       "      <td>4</td>\n",
       "    </tr>\n",
       "    <tr>\n",
       "      <th>308</th>\n",
       "      <td>alysaa</td>\n",
       "      <td>2192042172</td>\n",
       "      <td>2</td>\n",
       "      <td>3</td>\n",
       "    </tr>\n",
       "  </tbody>\n",
       "</table>\n",
       "</div>"
      ],
      "text/plain": [
       "                    name     user_id  followers_count  statuses_count\n",
       "49   ciko aculuduplaynow   942731472                0               4\n",
       "162              brururu  2750073745                0               1\n",
       "237     hildayani bustam  2229710126                1              14\n",
       "272  Mohammad Shahanshah  2604716533                1              79\n",
       "28   Darman Putra Bungsu   964126410                1              14\n",
       "398             assir_09  1087855662                1               6\n",
       "459        oddbod barber    90197913                1               2\n",
       "269           Abayyganas  1949731154                1              14\n",
       "512        Briana Garcia   923790313                2               4\n",
       "308               alysaa  2192042172                2               3"
      ]
     },
     "execution_count": 65,
     "metadata": {},
     "output_type": "execute_result"
    }
   ],
   "source": [
    "worst_10 = users_data[['name','user_id','followers_count','statuses_count']]\n",
    "worst_10.sort_values(by=['followers_count'],ascending=True)[0:10]"
   ]
  },
  {
   "cell_type": "markdown",
   "metadata": {},
   "source": [
    "We can see that tweeting a lot does not necessarily give you a lot of followers (billie eillish,  Mohammad Shahanshah).<br>\n",
    "There could be other factors that contribute to having a lot of followers, but serious research needs to be done in order to be more certain."
   ]
  },
  {
   "cell_type": "markdown",
   "metadata": {},
   "source": [
    "## Q8"
   ]
  },
  {
   "cell_type": "code",
   "execution_count": 66,
   "metadata": {},
   "outputs": [
    {
     "data": {
      "text/plain": [
       "Text(0.5, 1.0, 'Relation between Friends and Tweets:')"
      ]
     },
     "execution_count": 66,
     "metadata": {},
     "output_type": "execute_result"
    },
    {
     "data": {
      "image/png": "[encoded data removed]",
      "text/plain": [
       "<Figure size 432x288 with 1 Axes>"
      ]
     },
     "metadata": {
      "needs_background": "light"
     },
     "output_type": "display_data"
    }
   ],
   "source": [
    "df_Q8 =users_data[['statuses_count','friends_count']]\n",
    "df_Q8 = df_Q8.sort_values(by=['statuses_count'],ascending=False)\n",
    "df_Q8.plot(kind='scatter', x='statuses_count', y='friends_count')\n",
    "plt.xlabel(\"Total Tweets\")\n",
    "plt.ylabel(\"Friends\")\n",
    "plt.title('Relation between Friends and Tweets:')"
   ]
  },
  {
   "cell_type": "code",
   "execution_count": 67,
   "metadata": {},
   "outputs": [
    {
     "data": {
      "text/plain": [
       "Text(0.5, 1.0, 'Relation between Friends and Tweets:')"
      ]
     },
     "execution_count": 67,
     "metadata": {},
     "output_type": "execute_result"
    },
    {
     "data": {
      "image/png": "[encoded data removed]",
      "text/plain": [
       "<Figure size 432x288 with 1 Axes>"
      ]
     },
     "metadata": {
      "needs_background": "light"
     },
     "output_type": "display_data"
    }
   ],
   "source": [
    "df_Q8[df_Q8['friends_count'] < 100000].count()\n",
    "df_Q8[df_Q8['friends_count'] < 100000].plot(kind='scatter', x='statuses_count', y='friends_count')\n",
    "plt.xlabel(\"Total Tweets\")\n",
    "plt.ylabel(\"Friends\")\n",
    "plt.title('Relation between Friends and Tweets:')"
   ]
  },
  {
   "cell_type": "markdown",
   "metadata": {},
   "source": [
    "We can see from here that tweeting a lot does not necessarily bring you a lot of friends..."
   ]
  },
  {
   "cell_type": "markdown",
   "metadata": {},
   "source": [
    "Export to csv:"
   ]
  },
  {
   "cell_type": "code",
   "execution_count": 69,
   "metadata": {},
   "outputs": [],
   "source": [
    "LOCAL_DIRECTORY_PATH = r'C:\\DataScienceIntro\\tweets_monthly_summary.csv'\n",
    "tweets_monthly_summary.to_csv (LOCAL_DIRECTORY_PATH, index = False, header=True , encoding = 'utf-8-sig') #Exporting the DF to a folder in our PC"
   ]
  }
 ],
 "metadata": {
  "kernelspec": {
   "display_name": "Python 3",
   "language": "python",
   "name": "python3"
  },
  "language_info": {
   "codemirror_mode": {
    "name": "ipython",
    "version": 3
   },
   "file_extension": ".py",
   "mimetype": "text/x-python",
   "name": "python",
   "nbconvert_exporter": "python",
   "pygments_lexer": "ipython3",
   "version": "3.8.5"
  }
 },
 "nbformat": 4,
 "nbformat_minor": 4
}
